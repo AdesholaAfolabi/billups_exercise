{
 "cells": [
  {
   "cell_type": "markdown",
   "metadata": {},
   "source": [
    "# Library Late Return Project:  Build a model to predict the likelihood of a late return of any book at checkout time\n",
    "\n",
    "In this project, I will approach solving the problem in 4 steps in order to achieve the mission of the library. The mission statements are:\n",
    "\n",
    "- To predict the likelihood of a late return of any book at checkout time.\n",
    "- Identify factors that I can find that are connected with late returns.\n",
    "- To make recommendations on what the library needs to do to mitigate the risks that I find.\n",
    "- Present my findings in a very clear manner. \n",
    "\n",
    "These are the steps I would take to achieve the mission:\n",
    "\n",
    "1. Importing relevant libraries, reading and joining the provided datasets into a master dataset (based on the provided schema below).\n",
    "2. Data Cleaning and Transformation.\n",
    "3. Exploratory Data Analysis.\n",
    "4. Data Preparation and Predictive Modelling.\n",
    "\n",
    "![title](schema.png)"
   ]
  },
  {
   "cell_type": "markdown",
   "metadata": {},
   "source": [
    "## Step 1. Importing Libraries, Reading and Joining Datasets"
   ]
  },
  {
   "cell_type": "code",
   "execution_count": 1,
   "metadata": {},
   "outputs": [],
   "source": [
    "#!pip install -r requirements.txt"
   ]
  },
  {
   "cell_type": "code",
   "execution_count": 2,
   "metadata": {},
   "outputs": [],
   "source": [
    "import warnings\n",
    "warnings.filterwarnings('ignore')"
   ]
  },
  {
   "cell_type": "code",
   "execution_count": 3,
   "metadata": {},
   "outputs": [],
   "source": [
    "#importing relevant libraries\n",
    "import pandas as pd, numpy as np, matplotlib.pyplot as plt, seaborn as sns, re\n",
    "\n",
    "\n",
    "import warnings\n",
    "warnings.filterwarnings('ignore')\n",
    "\n",
    "pd.options.display.max_columns = None\n",
    "\n",
    "\n",
    "libraries_df = pd.read_csv('./data/libraries.csv')\n",
    "checkouts_df = pd.read_csv('./data/checkouts.csv')\n",
    "customers_df = pd.read_csv('./data/customers.csv')\n",
    "books_df = pd.read_csv('./data/books.csv')"
   ]
  },
  {
   "cell_type": "markdown",
   "metadata": {},
   "source": [
    "### View what the dataframes look like by calling the pandas .head() method"
   ]
  },
  {
   "cell_type": "code",
   "execution_count": 4,
   "metadata": {},
   "outputs": [
    {
     "data": {
      "text/html": [
       "<div>\n",
       "<style scoped>\n",
       "    .dataframe tbody tr th:only-of-type {\n",
       "        vertical-align: middle;\n",
       "    }\n",
       "\n",
       "    .dataframe tbody tr th {\n",
       "        vertical-align: top;\n",
       "    }\n",
       "\n",
       "    .dataframe thead th {\n",
       "        text-align: right;\n",
       "    }\n",
       "</style>\n",
       "<table border=\"1\" class=\"dataframe\">\n",
       "  <thead>\n",
       "    <tr style=\"text-align: right;\">\n",
       "      <th></th>\n",
       "      <th>id</th>\n",
       "      <th>name</th>\n",
       "      <th>street_address</th>\n",
       "      <th>city</th>\n",
       "      <th>region</th>\n",
       "      <th>postal_code</th>\n",
       "    </tr>\n",
       "  </thead>\n",
       "  <tbody>\n",
       "    <tr>\n",
       "      <th>0</th>\n",
       "      <td>226-222@5xc-kc4-fpv</td>\n",
       "      <td>Multnomah   County   Library Capitol Hill</td>\n",
       "      <td>10723 SW capitol Hwy</td>\n",
       "      <td>Portland</td>\n",
       "      <td>OR</td>\n",
       "      <td>97219</td>\n",
       "    </tr>\n",
       "    <tr>\n",
       "      <th>1</th>\n",
       "      <td>23v-222@5xc-jv7-v4v</td>\n",
       "      <td>Multnomah County Library Northwest</td>\n",
       "      <td>2300 NW Thurman  St</td>\n",
       "      <td>NaN</td>\n",
       "      <td>or</td>\n",
       "      <td>NaN</td>\n",
       "    </tr>\n",
       "  </tbody>\n",
       "</table>\n",
       "</div>"
      ],
      "text/plain": [
       "                    id                                       name  \\\n",
       "0  226-222@5xc-kc4-fpv  Multnomah   County   Library Capitol Hill   \n",
       "1  23v-222@5xc-jv7-v4v         Multnomah County Library Northwest   \n",
       "\n",
       "         street_address       city region postal_code  \n",
       "0  10723 SW capitol Hwy  Portland     OR        97219  \n",
       "1   2300 NW Thurman  St        NaN     or         NaN  "
      ]
     },
     "execution_count": 4,
     "metadata": {},
     "output_type": "execute_result"
    }
   ],
   "source": [
    "libraries_df.head(2)"
   ]
  },
  {
   "cell_type": "code",
   "execution_count": 5,
   "metadata": {},
   "outputs": [
    {
     "data": {
      "text/html": [
       "<div>\n",
       "<style scoped>\n",
       "    .dataframe tbody tr th:only-of-type {\n",
       "        vertical-align: middle;\n",
       "    }\n",
       "\n",
       "    .dataframe tbody tr th {\n",
       "        vertical-align: top;\n",
       "    }\n",
       "\n",
       "    .dataframe thead th {\n",
       "        text-align: right;\n",
       "    }\n",
       "</style>\n",
       "<table border=\"1\" class=\"dataframe\">\n",
       "  <thead>\n",
       "    <tr style=\"text-align: right;\">\n",
       "      <th></th>\n",
       "      <th>id</th>\n",
       "      <th>patron_id</th>\n",
       "      <th>library_id</th>\n",
       "      <th>date_checkout</th>\n",
       "      <th>date_returned</th>\n",
       "    </tr>\n",
       "  </thead>\n",
       "  <tbody>\n",
       "    <tr>\n",
       "      <th>0</th>\n",
       "      <td>-xFj0vTLbRIC</td>\n",
       "      <td>b071c9c68228a2b1d00e6f53677e16da</td>\n",
       "      <td>225-222@5xc-jtz-hkf</td>\n",
       "      <td>2019-01-28</td>\n",
       "      <td>2018-11-13</td>\n",
       "    </tr>\n",
       "    <tr>\n",
       "      <th>1</th>\n",
       "      <td>HUX-y4oXl04C</td>\n",
       "      <td>8d3f63e1deed89d7ba1bf6a4eb101373</td>\n",
       "      <td>223-222@5xc-jxr-tgk</td>\n",
       "      <td>2018-05-29</td>\n",
       "      <td>2018-06-12</td>\n",
       "    </tr>\n",
       "  </tbody>\n",
       "</table>\n",
       "</div>"
      ],
      "text/plain": [
       "             id                         patron_id           library_id  \\\n",
       "0  -xFj0vTLbRIC  b071c9c68228a2b1d00e6f53677e16da  225-222@5xc-jtz-hkf   \n",
       "1  HUX-y4oXl04C  8d3f63e1deed89d7ba1bf6a4eb101373  223-222@5xc-jxr-tgk   \n",
       "\n",
       "  date_checkout date_returned  \n",
       "0    2019-01-28    2018-11-13  \n",
       "1    2018-05-29    2018-06-12  "
      ]
     },
     "execution_count": 5,
     "metadata": {},
     "output_type": "execute_result"
    }
   ],
   "source": [
    "checkouts_df.head(2)"
   ]
  },
  {
   "cell_type": "code",
   "execution_count": 6,
   "metadata": {},
   "outputs": [
    {
     "data": {
      "text/html": [
       "<div>\n",
       "<style scoped>\n",
       "    .dataframe tbody tr th:only-of-type {\n",
       "        vertical-align: middle;\n",
       "    }\n",
       "\n",
       "    .dataframe tbody tr th {\n",
       "        vertical-align: top;\n",
       "    }\n",
       "\n",
       "    .dataframe thead th {\n",
       "        text-align: right;\n",
       "    }\n",
       "</style>\n",
       "<table border=\"1\" class=\"dataframe\">\n",
       "  <thead>\n",
       "    <tr style=\"text-align: right;\">\n",
       "      <th></th>\n",
       "      <th>id</th>\n",
       "      <th>name</th>\n",
       "      <th>street_address</th>\n",
       "      <th>city</th>\n",
       "      <th>state</th>\n",
       "      <th>zipcode</th>\n",
       "      <th>birth_date</th>\n",
       "      <th>gender</th>\n",
       "      <th>education</th>\n",
       "      <th>occupation</th>\n",
       "    </tr>\n",
       "  </thead>\n",
       "  <tbody>\n",
       "    <tr>\n",
       "      <th>0</th>\n",
       "      <td>df83ec2d0d409395c0d8c2690cfa8b67</td>\n",
       "      <td>Cynthia Barnfield</td>\n",
       "      <td>44 NE Meikle Pl</td>\n",
       "      <td>Portland</td>\n",
       "      <td>Oregon</td>\n",
       "      <td>97213.0</td>\n",
       "      <td>2009-09-10</td>\n",
       "      <td>female</td>\n",
       "      <td>High School</td>\n",
       "      <td>NaN</td>\n",
       "    </tr>\n",
       "    <tr>\n",
       "      <th>1</th>\n",
       "      <td>6aec7ab2ea0d67161dac39e5dcabd857</td>\n",
       "      <td>Elizabeth Smith</td>\n",
       "      <td>7511 SE Harrison St</td>\n",
       "      <td>Portland</td>\n",
       "      <td>Oregon</td>\n",
       "      <td>97215.0</td>\n",
       "      <td>1956-12-15</td>\n",
       "      <td>female</td>\n",
       "      <td>College</td>\n",
       "      <td>Blue Collar</td>\n",
       "    </tr>\n",
       "  </tbody>\n",
       "</table>\n",
       "</div>"
      ],
      "text/plain": [
       "                                 id               name       street_address  \\\n",
       "0  df83ec2d0d409395c0d8c2690cfa8b67  Cynthia Barnfield      44 NE Meikle Pl   \n",
       "1  6aec7ab2ea0d67161dac39e5dcabd857    Elizabeth Smith  7511 SE Harrison St   \n",
       "\n",
       "        city   state  zipcode  birth_date   gender    education   occupation  \n",
       "0  Portland   Oregon  97213.0  2009-09-10   female  High School          NaN  \n",
       "1   Portland  Oregon  97215.0  1956-12-15   female      College  Blue Collar  "
      ]
     },
     "execution_count": 6,
     "metadata": {},
     "output_type": "execute_result"
    }
   ],
   "source": [
    "customers_df.head(2)"
   ]
  },
  {
   "cell_type": "code",
   "execution_count": 7,
   "metadata": {},
   "outputs": [
    {
     "data": {
      "text/html": [
       "<div>\n",
       "<style scoped>\n",
       "    .dataframe tbody tr th:only-of-type {\n",
       "        vertical-align: middle;\n",
       "    }\n",
       "\n",
       "    .dataframe tbody tr th {\n",
       "        vertical-align: top;\n",
       "    }\n",
       "\n",
       "    .dataframe thead th {\n",
       "        text-align: right;\n",
       "    }\n",
       "</style>\n",
       "<table border=\"1\" class=\"dataframe\">\n",
       "  <thead>\n",
       "    <tr style=\"text-align: right;\">\n",
       "      <th></th>\n",
       "      <th>id</th>\n",
       "      <th>title</th>\n",
       "      <th>authors</th>\n",
       "      <th>publisher</th>\n",
       "      <th>publishedDate</th>\n",
       "      <th>categories</th>\n",
       "      <th>price</th>\n",
       "      <th>pages</th>\n",
       "    </tr>\n",
       "  </thead>\n",
       "  <tbody>\n",
       "    <tr>\n",
       "      <th>0</th>\n",
       "      <td>hVFwAAAAQBAJ</td>\n",
       "      <td>Ogilvy on Advertising</td>\n",
       "      <td>['David Ogilvy']</td>\n",
       "      <td>Vintage</td>\n",
       "      <td>2013-09-11</td>\n",
       "      <td>['Social Science']</td>\n",
       "      <td>72.99</td>\n",
       "      <td>320</td>\n",
       "    </tr>\n",
       "    <tr>\n",
       "      <th>1</th>\n",
       "      <td>bRY9AAAAYAAJ</td>\n",
       "      <td>Foreign Publications for Advertising American ...</td>\n",
       "      <td>['United States. Bureau of Foreign and Domesti...</td>\n",
       "      <td>NaN</td>\n",
       "      <td>1913</td>\n",
       "      <td>['Advertising']</td>\n",
       "      <td>469.99</td>\n",
       "      <td>654</td>\n",
       "    </tr>\n",
       "  </tbody>\n",
       "</table>\n",
       "</div>"
      ],
      "text/plain": [
       "             id                                              title  \\\n",
       "0  hVFwAAAAQBAJ                              Ogilvy on Advertising   \n",
       "1  bRY9AAAAYAAJ  Foreign Publications for Advertising American ...   \n",
       "\n",
       "                                             authors publisher publishedDate  \\\n",
       "0                                   ['David Ogilvy']   Vintage    2013-09-11   \n",
       "1  ['United States. Bureau of Foreign and Domesti...       NaN          1913   \n",
       "\n",
       "           categories   price pages  \n",
       "0  ['Social Science']   72.99   320  \n",
       "1     ['Advertising']  469.99   654  "
      ]
     },
     "execution_count": 7,
     "metadata": {},
     "output_type": "execute_result"
    }
   ],
   "source": [
    "books_df.head(2)"
   ]
  },
  {
   "cell_type": "markdown",
   "metadata": {},
   "source": [
    "### Get the shape of the dataframes (rows X columns)"
   ]
  },
  {
   "cell_type": "code",
   "execution_count": 8,
   "metadata": {},
   "outputs": [
    {
     "data": {
      "text/plain": [
       "((18, 6), (2000, 5), (2000, 10), (240, 8))"
      ]
     },
     "execution_count": 8,
     "metadata": {},
     "output_type": "execute_result"
    }
   ],
   "source": [
    "libraries_df.shape, checkouts_df.shape, customers_df.shape, books_df.shape"
   ]
  },
  {
   "cell_type": "markdown",
   "metadata": {},
   "source": [
    "### Join the dataframes into a master dataframe\n",
    "\n",
    "1. Rename overlapping column names in the dataframes in order to have unique column names per dataframe\n",
    "\n",
    "2. In order to have a master dataframe, it is necessary to identify the join keys in each of the dataframes.\n",
    "   - books_df.id <==> checkouts_df.id\n",
    "   - checkouts_df.patron_id <==> customers_df.id\n",
    "   - checkouts_df.library_id <==> libraries_df.id"
   ]
  },
  {
   "cell_type": "code",
   "execution_count": 9,
   "metadata": {},
   "outputs": [],
   "source": [
    "# Rename columns\n",
    "from wrangler.data_preprocessing import rename_columns"
   ]
  },
  {
   "cell_type": "code",
   "execution_count": 10,
   "metadata": {},
   "outputs": [],
   "source": [
    "renamed_lib = rename_columns(libraries_df, 'library_')\n",
    "renamed_check = rename_columns(checkouts_df, 'checkout_')\n",
    "renamed_customers = rename_columns(customers_df, 'customer_')\n",
    "renamed_books = rename_columns(books_df, 'book_')"
   ]
  },
  {
   "cell_type": "markdown",
   "metadata": {},
   "source": [
    "### New join key relationship upon renaming the columns\n",
    "- renamed_books.book_id <==> renamed_check.checkout_id\n",
    "- renamed_check.checkout_patron_id <==> renamed_customers.customer_id\n",
    "- renamed_check.checkout_library_id <==> renamed_lib.library_id"
   ]
  },
  {
   "cell_type": "code",
   "execution_count": 11,
   "metadata": {},
   "outputs": [],
   "source": [
    "# Merge the dataframes based on the renamed join keys \n",
    "books_checkouts = pd.merge(renamed_books, renamed_check, left_on='book_id', right_on='checkout_id')\n",
    "bc_customers = pd.merge(books_checkouts, renamed_customers, left_on='checkout_patron_id', right_on='customer_id')\n",
    "master_df = pd.merge(bc_customers, renamed_lib, left_on='checkout_library_id', right_on='library_id')"
   ]
  },
  {
   "cell_type": "code",
   "execution_count": 12,
   "metadata": {},
   "outputs": [
    {
     "data": {
      "text/plain": [
       "(2000, 29)"
      ]
     },
     "execution_count": 12,
     "metadata": {},
     "output_type": "execute_result"
    }
   ],
   "source": [
    "master_df.shape"
   ]
  },
  {
   "cell_type": "code",
   "execution_count": 13,
   "metadata": {},
   "outputs": [
    {
     "data": {
      "text/html": [
       "<div>\n",
       "<style scoped>\n",
       "    .dataframe tbody tr th:only-of-type {\n",
       "        vertical-align: middle;\n",
       "    }\n",
       "\n",
       "    .dataframe tbody tr th {\n",
       "        vertical-align: top;\n",
       "    }\n",
       "\n",
       "    .dataframe thead th {\n",
       "        text-align: right;\n",
       "    }\n",
       "</style>\n",
       "<table border=\"1\" class=\"dataframe\">\n",
       "  <thead>\n",
       "    <tr style=\"text-align: right;\">\n",
       "      <th></th>\n",
       "      <th>book_id</th>\n",
       "      <th>book_title</th>\n",
       "      <th>book_authors</th>\n",
       "      <th>book_publisher</th>\n",
       "      <th>book_publishedDate</th>\n",
       "      <th>book_categories</th>\n",
       "      <th>book_price</th>\n",
       "      <th>book_pages</th>\n",
       "      <th>checkout_id</th>\n",
       "      <th>checkout_patron_id</th>\n",
       "      <th>checkout_library_id</th>\n",
       "      <th>checkout_date_checkout</th>\n",
       "      <th>checkout_date_returned</th>\n",
       "      <th>customer_id</th>\n",
       "      <th>customer_name</th>\n",
       "      <th>customer_street_address</th>\n",
       "      <th>customer_city</th>\n",
       "      <th>customer_state</th>\n",
       "      <th>customer_zipcode</th>\n",
       "      <th>customer_birth_date</th>\n",
       "      <th>customer_gender</th>\n",
       "      <th>customer_education</th>\n",
       "      <th>customer_occupation</th>\n",
       "      <th>library_id</th>\n",
       "      <th>library_name</th>\n",
       "      <th>library_street_address</th>\n",
       "      <th>library_city</th>\n",
       "      <th>library_region</th>\n",
       "      <th>library_postal_code</th>\n",
       "    </tr>\n",
       "  </thead>\n",
       "  <tbody>\n",
       "    <tr>\n",
       "      <th>0</th>\n",
       "      <td>hVFwAAAAQBAJ</td>\n",
       "      <td>Ogilvy on Advertising</td>\n",
       "      <td>['David Ogilvy']</td>\n",
       "      <td>Vintage</td>\n",
       "      <td>2013-09-11</td>\n",
       "      <td>['Social Science']</td>\n",
       "      <td>72.99</td>\n",
       "      <td>320</td>\n",
       "      <td>hVFwAAAAQBAJ</td>\n",
       "      <td>466d78dd0a6e1beffc1ac2eb19fc17b4</td>\n",
       "      <td>226-222@5xc-jxj-7yv</td>\n",
       "      <td>2018-01-17</td>\n",
       "      <td>2018-01-31</td>\n",
       "      <td>466d78dd0a6e1beffc1ac2eb19fc17b4</td>\n",
       "      <td>Duncan Cruz</td>\n",
       "      <td>2931 SE Harrison St</td>\n",
       "      <td>Portland</td>\n",
       "      <td>Oregon</td>\n",
       "      <td>97214.0</td>\n",
       "      <td>1816-05-24</td>\n",
       "      <td>male</td>\n",
       "      <td>NaN</td>\n",
       "      <td>Sales</td>\n",
       "      <td>226-222@5xc-jxj-7yv</td>\n",
       "      <td>Multnomah County Library Belmont</td>\n",
       "      <td>1038 SE CESAR E CHAVEZ blvd</td>\n",
       "      <td>Portland</td>\n",
       "      <td>OR</td>\n",
       "      <td>97214</td>\n",
       "    </tr>\n",
       "    <tr>\n",
       "      <th>1</th>\n",
       "      <td>hVFwAAAAQBAJ</td>\n",
       "      <td>Ogilvy on Advertising</td>\n",
       "      <td>['David Ogilvy']</td>\n",
       "      <td>Vintage</td>\n",
       "      <td>2013-09-11</td>\n",
       "      <td>['Social Science']</td>\n",
       "      <td>72.99</td>\n",
       "      <td>320</td>\n",
       "      <td>hVFwAAAAQBAJ</td>\n",
       "      <td>93500f374fb5f330d47e89b30af648f5</td>\n",
       "      <td>226-222@5xc-jxj-7yv</td>\n",
       "      <td>2018-04-05</td>\n",
       "      <td>2018-04-24</td>\n",
       "      <td>93500f374fb5f330d47e89b30af648f5</td>\n",
       "      <td>Robert Moretti</td>\n",
       "      <td>230 SW Woods st</td>\n",
       "      <td>Portland</td>\n",
       "      <td>Oregon</td>\n",
       "      <td>97201.0</td>\n",
       "      <td>2004-03-29</td>\n",
       "      <td>male</td>\n",
       "      <td>College</td>\n",
       "      <td>Admin &amp; Support</td>\n",
       "      <td>226-222@5xc-jxj-7yv</td>\n",
       "      <td>Multnomah County Library Belmont</td>\n",
       "      <td>1038 SE CESAR E CHAVEZ blvd</td>\n",
       "      <td>Portland</td>\n",
       "      <td>OR</td>\n",
       "      <td>97214</td>\n",
       "    </tr>\n",
       "  </tbody>\n",
       "</table>\n",
       "</div>"
      ],
      "text/plain": [
       "        book_id             book_title      book_authors book_publisher  \\\n",
       "0  hVFwAAAAQBAJ  Ogilvy on Advertising  ['David Ogilvy']        Vintage   \n",
       "1  hVFwAAAAQBAJ  Ogilvy on Advertising  ['David Ogilvy']        Vintage   \n",
       "\n",
       "  book_publishedDate     book_categories book_price book_pages   checkout_id  \\\n",
       "0         2013-09-11  ['Social Science']      72.99        320  hVFwAAAAQBAJ   \n",
       "1         2013-09-11  ['Social Science']      72.99        320  hVFwAAAAQBAJ   \n",
       "\n",
       "                 checkout_patron_id  checkout_library_id  \\\n",
       "0  466d78dd0a6e1beffc1ac2eb19fc17b4  226-222@5xc-jxj-7yv   \n",
       "1  93500f374fb5f330d47e89b30af648f5  226-222@5xc-jxj-7yv   \n",
       "\n",
       "  checkout_date_checkout checkout_date_returned  \\\n",
       "0             2018-01-17             2018-01-31   \n",
       "1             2018-04-05             2018-04-24   \n",
       "\n",
       "                        customer_id   customer_name customer_street_address  \\\n",
       "0  466d78dd0a6e1beffc1ac2eb19fc17b4     Duncan Cruz     2931 SE Harrison St   \n",
       "1  93500f374fb5f330d47e89b30af648f5  Robert Moretti         230 SW Woods st   \n",
       "\n",
       "  customer_city customer_state customer_zipcode customer_birth_date  \\\n",
       "0      Portland         Oregon          97214.0          1816-05-24   \n",
       "1      Portland         Oregon          97201.0          2004-03-29   \n",
       "\n",
       "  customer_gender customer_education customer_occupation           library_id  \\\n",
       "0            male                NaN               Sales  226-222@5xc-jxj-7yv   \n",
       "1            male            College     Admin & Support  226-222@5xc-jxj-7yv   \n",
       "\n",
       "                         library_name       library_street_address  \\\n",
       "0    Multnomah County Library Belmont  1038 SE CESAR E CHAVEZ blvd   \n",
       "1    Multnomah County Library Belmont  1038 SE CESAR E CHAVEZ blvd   \n",
       "\n",
       "  library_city library_region library_postal_code  \n",
       "0     Portland             OR               97214  \n",
       "1     Portland             OR               97214  "
      ]
     },
     "execution_count": 13,
     "metadata": {},
     "output_type": "execute_result"
    }
   ],
   "source": [
    "master_df.head(2)"
   ]
  },
  {
   "cell_type": "code",
   "execution_count": null,
   "metadata": {},
   "outputs": [],
   "source": [
    "#master_df.to_csv(\"data/master_df.csv\", index=False)"
   ]
  },
  {
   "cell_type": "code",
   "execution_count": 14,
   "metadata": {},
   "outputs": [],
   "source": [
    "# Drop redundant join keys that are duplicates (across columns)\n",
    "from wrangler.data_preprocessing import drop_cols\n",
    "\n",
    "cols_to_drop = ['checkout_id','checkout_patron_id','checkout_library_id']\n",
    "data = drop_cols(master_df, columns=cols_to_drop)"
   ]
  },
  {
   "cell_type": "code",
   "execution_count": 15,
   "metadata": {},
   "outputs": [
    {
     "data": {
      "text/plain": [
       "(2000, 26)"
      ]
     },
     "execution_count": 15,
     "metadata": {},
     "output_type": "execute_result"
    }
   ],
   "source": [
    "data.shape"
   ]
  },
  {
   "cell_type": "markdown",
   "metadata": {},
   "source": [
    "## Step 2.  Data Cleaning and Feature Extraction"
   ]
  },
  {
   "cell_type": "markdown",
   "metadata": {},
   "source": [
    "### 2.1- Cleaning and feature extraction opeerations:\n",
    "- Featurize the datetime checkout and return columns into year, month, day\n",
    "- Filter out invalid years (or years considered to be outliers)\n",
    "- Compute the age of customers\n",
    "- Create target column based on the 28 days period for lateness (0 for early returns and 1 for late returns)\n",
    "- General function to clean columns by performing operations such as special character removal, leading/trailing whitespaces, etc\n",
    "- Check the percentage of NaN values present in the dataset\n",
    "- Detect and fix outliers\n",
    "- Handle the NaN values (use mean for numeric and mode for categorical variables)\n",
    "\n",
    "**Note**: The acronym wr stands for wrangle and are named from 1 to n to denote each step/progress"
   ]
  },
  {
   "cell_type": "code",
   "execution_count": 16,
   "metadata": {},
   "outputs": [],
   "source": [
    "from wrangler.data_preprocessing import featurize_datetime\n",
    "wr1 = featurize_datetime(data, ['checkout_date_checkout', 'checkout_date_returned'], drop = False)"
   ]
  },
  {
   "cell_type": "code",
   "execution_count": 17,
   "metadata": {},
   "outputs": [
    {
     "data": {
      "text/html": [
       "<div>\n",
       "<style scoped>\n",
       "    .dataframe tbody tr th:only-of-type {\n",
       "        vertical-align: middle;\n",
       "    }\n",
       "\n",
       "    .dataframe tbody tr th {\n",
       "        vertical-align: top;\n",
       "    }\n",
       "\n",
       "    .dataframe thead th {\n",
       "        text-align: right;\n",
       "    }\n",
       "</style>\n",
       "<table border=\"1\" class=\"dataframe\">\n",
       "  <thead>\n",
       "    <tr style=\"text-align: right;\">\n",
       "      <th></th>\n",
       "      <th>book_id</th>\n",
       "      <th>book_title</th>\n",
       "      <th>book_authors</th>\n",
       "      <th>book_publisher</th>\n",
       "      <th>book_publishedDate</th>\n",
       "      <th>book_categories</th>\n",
       "      <th>book_price</th>\n",
       "      <th>book_pages</th>\n",
       "      <th>checkout_date_checkout</th>\n",
       "      <th>checkout_date_returned</th>\n",
       "      <th>customer_id</th>\n",
       "      <th>customer_name</th>\n",
       "      <th>customer_street_address</th>\n",
       "      <th>customer_city</th>\n",
       "      <th>customer_state</th>\n",
       "      <th>customer_zipcode</th>\n",
       "      <th>customer_birth_date</th>\n",
       "      <th>customer_gender</th>\n",
       "      <th>customer_education</th>\n",
       "      <th>customer_occupation</th>\n",
       "      <th>library_id</th>\n",
       "      <th>library_name</th>\n",
       "      <th>library_street_address</th>\n",
       "      <th>library_city</th>\n",
       "      <th>library_region</th>\n",
       "      <th>library_postal_code</th>\n",
       "      <th>checkout_date_checkout_year</th>\n",
       "      <th>checkout_date_checkout_month</th>\n",
       "      <th>checkout_date_checkout_day</th>\n",
       "      <th>checkout_date_returned_year</th>\n",
       "      <th>checkout_date_returned_month</th>\n",
       "      <th>checkout_date_returned_day</th>\n",
       "    </tr>\n",
       "  </thead>\n",
       "  <tbody>\n",
       "    <tr>\n",
       "      <th>0</th>\n",
       "      <td>hVFwAAAAQBAJ</td>\n",
       "      <td>Ogilvy on Advertising</td>\n",
       "      <td>['David Ogilvy']</td>\n",
       "      <td>Vintage</td>\n",
       "      <td>2013-09-11</td>\n",
       "      <td>['Social Science']</td>\n",
       "      <td>72.99</td>\n",
       "      <td>320</td>\n",
       "      <td>2018-01-17</td>\n",
       "      <td>2018-01-31</td>\n",
       "      <td>466d78dd0a6e1beffc1ac2eb19fc17b4</td>\n",
       "      <td>Duncan Cruz</td>\n",
       "      <td>2931 SE Harrison St</td>\n",
       "      <td>Portland</td>\n",
       "      <td>Oregon</td>\n",
       "      <td>97214.0</td>\n",
       "      <td>1816-05-24</td>\n",
       "      <td>male</td>\n",
       "      <td>NaN</td>\n",
       "      <td>Sales</td>\n",
       "      <td>226-222@5xc-jxj-7yv</td>\n",
       "      <td>Multnomah County Library Belmont</td>\n",
       "      <td>1038 SE CESAR E CHAVEZ blvd</td>\n",
       "      <td>Portland</td>\n",
       "      <td>OR</td>\n",
       "      <td>97214</td>\n",
       "      <td>2018.0</td>\n",
       "      <td>January</td>\n",
       "      <td>Wednesday</td>\n",
       "      <td>2018.0</td>\n",
       "      <td>January</td>\n",
       "      <td>Wednesday</td>\n",
       "    </tr>\n",
       "    <tr>\n",
       "      <th>1</th>\n",
       "      <td>hVFwAAAAQBAJ</td>\n",
       "      <td>Ogilvy on Advertising</td>\n",
       "      <td>['David Ogilvy']</td>\n",
       "      <td>Vintage</td>\n",
       "      <td>2013-09-11</td>\n",
       "      <td>['Social Science']</td>\n",
       "      <td>72.99</td>\n",
       "      <td>320</td>\n",
       "      <td>2018-04-05</td>\n",
       "      <td>2018-04-24</td>\n",
       "      <td>93500f374fb5f330d47e89b30af648f5</td>\n",
       "      <td>Robert Moretti</td>\n",
       "      <td>230 SW Woods st</td>\n",
       "      <td>Portland</td>\n",
       "      <td>Oregon</td>\n",
       "      <td>97201.0</td>\n",
       "      <td>2004-03-29</td>\n",
       "      <td>male</td>\n",
       "      <td>College</td>\n",
       "      <td>Admin &amp; Support</td>\n",
       "      <td>226-222@5xc-jxj-7yv</td>\n",
       "      <td>Multnomah County Library Belmont</td>\n",
       "      <td>1038 SE CESAR E CHAVEZ blvd</td>\n",
       "      <td>Portland</td>\n",
       "      <td>OR</td>\n",
       "      <td>97214</td>\n",
       "      <td>2018.0</td>\n",
       "      <td>April</td>\n",
       "      <td>Thursday</td>\n",
       "      <td>2018.0</td>\n",
       "      <td>April</td>\n",
       "      <td>Tuesday</td>\n",
       "    </tr>\n",
       "  </tbody>\n",
       "</table>\n",
       "</div>"
      ],
      "text/plain": [
       "        book_id             book_title      book_authors book_publisher  \\\n",
       "0  hVFwAAAAQBAJ  Ogilvy on Advertising  ['David Ogilvy']        Vintage   \n",
       "1  hVFwAAAAQBAJ  Ogilvy on Advertising  ['David Ogilvy']        Vintage   \n",
       "\n",
       "  book_publishedDate     book_categories book_price book_pages  \\\n",
       "0         2013-09-11  ['Social Science']      72.99        320   \n",
       "1         2013-09-11  ['Social Science']      72.99        320   \n",
       "\n",
       "  checkout_date_checkout checkout_date_returned  \\\n",
       "0             2018-01-17             2018-01-31   \n",
       "1             2018-04-05             2018-04-24   \n",
       "\n",
       "                        customer_id   customer_name customer_street_address  \\\n",
       "0  466d78dd0a6e1beffc1ac2eb19fc17b4     Duncan Cruz     2931 SE Harrison St   \n",
       "1  93500f374fb5f330d47e89b30af648f5  Robert Moretti         230 SW Woods st   \n",
       "\n",
       "  customer_city customer_state customer_zipcode customer_birth_date  \\\n",
       "0      Portland         Oregon          97214.0          1816-05-24   \n",
       "1      Portland         Oregon          97201.0          2004-03-29   \n",
       "\n",
       "  customer_gender customer_education customer_occupation           library_id  \\\n",
       "0            male                NaN               Sales  226-222@5xc-jxj-7yv   \n",
       "1            male            College     Admin & Support  226-222@5xc-jxj-7yv   \n",
       "\n",
       "                         library_name       library_street_address  \\\n",
       "0    Multnomah County Library Belmont  1038 SE CESAR E CHAVEZ blvd   \n",
       "1    Multnomah County Library Belmont  1038 SE CESAR E CHAVEZ blvd   \n",
       "\n",
       "  library_city library_region library_postal_code  \\\n",
       "0     Portland             OR               97214   \n",
       "1     Portland             OR               97214   \n",
       "\n",
       "   checkout_date_checkout_year checkout_date_checkout_month  \\\n",
       "0                       2018.0                      January   \n",
       "1                       2018.0                        April   \n",
       "\n",
       "  checkout_date_checkout_day  checkout_date_returned_year  \\\n",
       "0                  Wednesday                       2018.0   \n",
       "1                   Thursday                       2018.0   \n",
       "\n",
       "  checkout_date_returned_month checkout_date_returned_day  \n",
       "0                      January                  Wednesday  \n",
       "1                        April                    Tuesday  "
      ]
     },
     "execution_count": 17,
     "metadata": {},
     "output_type": "execute_result"
    }
   ],
   "source": [
    "wr1.head(2)"
   ]
  },
  {
   "cell_type": "code",
   "execution_count": 18,
   "metadata": {},
   "outputs": [],
   "source": [
    "#wr1.groupby('checkout_date_checkout_month')['book_title'].value_counts()['March']"
   ]
  },
  {
   "cell_type": "code",
   "execution_count": 18,
   "metadata": {},
   "outputs": [
    {
     "data": {
      "text/plain": [
       "(2000, 32)"
      ]
     },
     "execution_count": 18,
     "metadata": {},
     "output_type": "execute_result"
    }
   ],
   "source": [
    "wr1.shape"
   ]
  },
  {
   "cell_type": "code",
   "execution_count": 19,
   "metadata": {},
   "outputs": [
    {
     "data": {
      "text/plain": [
       "2018.0    0.8260\n",
       "2019.0    0.0565\n",
       "nan       0.0290\n",
       "2112.0    0.0050\n",
       "2117.0    0.0045\n",
       "1802.0    0.0040\n",
       "1807.0    0.0035\n",
       "Name: checkout_date_returned_year, dtype: float64"
      ]
     },
     "execution_count": 19,
     "metadata": {},
     "output_type": "execute_result"
    }
   ],
   "source": [
    "wr1.checkout_date_returned_year.astype(str).value_counts(normalize=True)[:7]"
   ]
  },
  {
   "cell_type": "code",
   "execution_count": 20,
   "metadata": {},
   "outputs": [
    {
     "name": "stdout",
     "output_type": "stream",
     "text": [
      "dataframe shape is (1526, 32)\n"
     ]
    }
   ],
   "source": [
    "# From the cell above, most of the dates outside 2018 & 2019 are either in the future or way in the past.\n",
    "#Those will be filtered out\n",
    "wr1.drop(wr1[(wr1['checkout_date_returned_year'] != 2018.0) & (wr1['checkout_date_returned_year'] != 2019.0)].index, inplace = True)\n",
    "wr1.drop(wr1[(wr1['checkout_date_checkout_year'] != 2018.0) & (wr1['checkout_date_checkout_year'] != 2019.0)].index, inplace = True)\n",
    "wr1 = wr1.reset_index(drop = True)\n",
    "print('dataframe shape is {}'.format(wr1.shape))"
   ]
  },
  {
   "cell_type": "code",
   "execution_count": 21,
   "metadata": {},
   "outputs": [],
   "source": [
    "from wrangler.data_preprocessing import age"
   ]
  },
  {
   "cell_type": "code",
   "execution_count": 22,
   "metadata": {},
   "outputs": [],
   "source": [
    "#Get the age of users using their birth date and checkout date\n",
    "wr2 = age(wr1)"
   ]
  },
  {
   "cell_type": "code",
   "execution_count": 23,
   "metadata": {},
   "outputs": [
    {
     "data": {
      "text/html": [
       "<div>\n",
       "<style scoped>\n",
       "    .dataframe tbody tr th:only-of-type {\n",
       "        vertical-align: middle;\n",
       "    }\n",
       "\n",
       "    .dataframe tbody tr th {\n",
       "        vertical-align: top;\n",
       "    }\n",
       "\n",
       "    .dataframe thead th {\n",
       "        text-align: right;\n",
       "    }\n",
       "</style>\n",
       "<table border=\"1\" class=\"dataframe\">\n",
       "  <thead>\n",
       "    <tr style=\"text-align: right;\">\n",
       "      <th></th>\n",
       "      <th>book_id</th>\n",
       "      <th>book_title</th>\n",
       "      <th>book_authors</th>\n",
       "      <th>book_publisher</th>\n",
       "      <th>book_publishedDate</th>\n",
       "      <th>book_categories</th>\n",
       "      <th>book_price</th>\n",
       "      <th>book_pages</th>\n",
       "      <th>checkout_date_checkout</th>\n",
       "      <th>checkout_date_returned</th>\n",
       "      <th>customer_id</th>\n",
       "      <th>customer_name</th>\n",
       "      <th>customer_street_address</th>\n",
       "      <th>customer_city</th>\n",
       "      <th>customer_state</th>\n",
       "      <th>customer_zipcode</th>\n",
       "      <th>customer_birth_date</th>\n",
       "      <th>customer_gender</th>\n",
       "      <th>customer_education</th>\n",
       "      <th>customer_occupation</th>\n",
       "      <th>library_id</th>\n",
       "      <th>library_name</th>\n",
       "      <th>library_street_address</th>\n",
       "      <th>library_city</th>\n",
       "      <th>library_region</th>\n",
       "      <th>library_postal_code</th>\n",
       "      <th>checkout_date_checkout_year</th>\n",
       "      <th>checkout_date_checkout_month</th>\n",
       "      <th>checkout_date_checkout_day</th>\n",
       "      <th>checkout_date_returned_year</th>\n",
       "      <th>checkout_date_returned_month</th>\n",
       "      <th>checkout_date_returned_day</th>\n",
       "      <th>customer_age</th>\n",
       "    </tr>\n",
       "  </thead>\n",
       "  <tbody>\n",
       "    <tr>\n",
       "      <th>0</th>\n",
       "      <td>hVFwAAAAQBAJ</td>\n",
       "      <td>Ogilvy on Advertising</td>\n",
       "      <td>['David Ogilvy']</td>\n",
       "      <td>Vintage</td>\n",
       "      <td>2013-09-11</td>\n",
       "      <td>['Social Science']</td>\n",
       "      <td>72.99</td>\n",
       "      <td>320</td>\n",
       "      <td>2018-01-17</td>\n",
       "      <td>2018-01-31</td>\n",
       "      <td>466d78dd0a6e1beffc1ac2eb19fc17b4</td>\n",
       "      <td>Duncan Cruz</td>\n",
       "      <td>2931 SE Harrison St</td>\n",
       "      <td>Portland</td>\n",
       "      <td>Oregon</td>\n",
       "      <td>97214.0</td>\n",
       "      <td>1816-05-24</td>\n",
       "      <td>male</td>\n",
       "      <td>NaN</td>\n",
       "      <td>Sales</td>\n",
       "      <td>226-222@5xc-jxj-7yv</td>\n",
       "      <td>Multnomah County Library Belmont</td>\n",
       "      <td>1038 SE CESAR E CHAVEZ blvd</td>\n",
       "      <td>Portland</td>\n",
       "      <td>OR</td>\n",
       "      <td>97214</td>\n",
       "      <td>2018.0</td>\n",
       "      <td>January</td>\n",
       "      <td>Wednesday</td>\n",
       "      <td>2018.0</td>\n",
       "      <td>January</td>\n",
       "      <td>Wednesday</td>\n",
       "      <td>202.0</td>\n",
       "    </tr>\n",
       "    <tr>\n",
       "      <th>1</th>\n",
       "      <td>hVFwAAAAQBAJ</td>\n",
       "      <td>Ogilvy on Advertising</td>\n",
       "      <td>['David Ogilvy']</td>\n",
       "      <td>Vintage</td>\n",
       "      <td>2013-09-11</td>\n",
       "      <td>['Social Science']</td>\n",
       "      <td>72.99</td>\n",
       "      <td>320</td>\n",
       "      <td>2018-04-05</td>\n",
       "      <td>2018-04-24</td>\n",
       "      <td>93500f374fb5f330d47e89b30af648f5</td>\n",
       "      <td>Robert Moretti</td>\n",
       "      <td>230 SW Woods st</td>\n",
       "      <td>Portland</td>\n",
       "      <td>Oregon</td>\n",
       "      <td>97201.0</td>\n",
       "      <td>2004-03-29</td>\n",
       "      <td>male</td>\n",
       "      <td>College</td>\n",
       "      <td>Admin &amp; Support</td>\n",
       "      <td>226-222@5xc-jxj-7yv</td>\n",
       "      <td>Multnomah County Library Belmont</td>\n",
       "      <td>1038 SE CESAR E CHAVEZ blvd</td>\n",
       "      <td>Portland</td>\n",
       "      <td>OR</td>\n",
       "      <td>97214</td>\n",
       "      <td>2018.0</td>\n",
       "      <td>April</td>\n",
       "      <td>Thursday</td>\n",
       "      <td>2018.0</td>\n",
       "      <td>April</td>\n",
       "      <td>Tuesday</td>\n",
       "      <td>14.0</td>\n",
       "    </tr>\n",
       "  </tbody>\n",
       "</table>\n",
       "</div>"
      ],
      "text/plain": [
       "        book_id             book_title      book_authors book_publisher  \\\n",
       "0  hVFwAAAAQBAJ  Ogilvy on Advertising  ['David Ogilvy']        Vintage   \n",
       "1  hVFwAAAAQBAJ  Ogilvy on Advertising  ['David Ogilvy']        Vintage   \n",
       "\n",
       "  book_publishedDate     book_categories book_price book_pages  \\\n",
       "0         2013-09-11  ['Social Science']      72.99        320   \n",
       "1         2013-09-11  ['Social Science']      72.99        320   \n",
       "\n",
       "  checkout_date_checkout checkout_date_returned  \\\n",
       "0             2018-01-17             2018-01-31   \n",
       "1             2018-04-05             2018-04-24   \n",
       "\n",
       "                        customer_id   customer_name customer_street_address  \\\n",
       "0  466d78dd0a6e1beffc1ac2eb19fc17b4     Duncan Cruz     2931 SE Harrison St   \n",
       "1  93500f374fb5f330d47e89b30af648f5  Robert Moretti         230 SW Woods st   \n",
       "\n",
       "  customer_city customer_state customer_zipcode customer_birth_date  \\\n",
       "0      Portland         Oregon          97214.0          1816-05-24   \n",
       "1      Portland         Oregon          97201.0          2004-03-29   \n",
       "\n",
       "  customer_gender customer_education customer_occupation           library_id  \\\n",
       "0            male                NaN               Sales  226-222@5xc-jxj-7yv   \n",
       "1            male            College     Admin & Support  226-222@5xc-jxj-7yv   \n",
       "\n",
       "                         library_name       library_street_address  \\\n",
       "0    Multnomah County Library Belmont  1038 SE CESAR E CHAVEZ blvd   \n",
       "1    Multnomah County Library Belmont  1038 SE CESAR E CHAVEZ blvd   \n",
       "\n",
       "  library_city library_region library_postal_code  \\\n",
       "0     Portland             OR               97214   \n",
       "1     Portland             OR               97214   \n",
       "\n",
       "   checkout_date_checkout_year checkout_date_checkout_month  \\\n",
       "0                       2018.0                      January   \n",
       "1                       2018.0                        April   \n",
       "\n",
       "  checkout_date_checkout_day  checkout_date_returned_year  \\\n",
       "0                  Wednesday                       2018.0   \n",
       "1                   Thursday                       2018.0   \n",
       "\n",
       "  checkout_date_returned_month checkout_date_returned_day  customer_age  \n",
       "0                      January                  Wednesday         202.0  \n",
       "1                        April                    Tuesday          14.0  "
      ]
     },
     "execution_count": 23,
     "metadata": {},
     "output_type": "execute_result"
    }
   ],
   "source": [
    "wr2.head(2)"
   ]
  },
  {
   "cell_type": "code",
   "execution_count": 25,
   "metadata": {},
   "outputs": [],
   "source": [
    "from wrangler.data_preprocessing import create_target_column\n",
    "wr3 = create_target_column(wr2)"
   ]
  },
  {
   "cell_type": "code",
   "execution_count": 26,
   "metadata": {},
   "outputs": [
    {
     "data": {
      "text/plain": [
       "0    0.909028\n",
       "1    0.090972\n",
       "Name: target, dtype: float64"
      ]
     },
     "execution_count": 26,
     "metadata": {},
     "output_type": "execute_result"
    }
   ],
   "source": [
    "#Create a new column target(0, 1) based on early/late returns\n",
    "wr3.target.value_counts(normalize=True)"
   ]
  },
  {
   "cell_type": "code",
   "execution_count": null,
   "metadata": {},
   "outputs": [],
   "source": [
    "# From the distribution in cell 27 above, the target is highly imbalanced"
   ]
  },
  {
   "cell_type": "code",
   "execution_count": 27,
   "metadata": {},
   "outputs": [],
   "source": [
    "from wrangler.data_preprocessing import clean_columns"
   ]
  },
  {
   "cell_type": "code",
   "execution_count": 28,
   "metadata": {},
   "outputs": [],
   "source": [
    "#General clean funtion\n",
    "wr4 = clean_columns(wr3)"
   ]
  },
  {
   "cell_type": "code",
   "execution_count": 29,
   "metadata": {},
   "outputs": [
    {
     "data": {
      "text/plain": [
       "(1451, 38)"
      ]
     },
     "execution_count": 29,
     "metadata": {},
     "output_type": "execute_result"
    }
   ],
   "source": [
    "wr4.shape"
   ]
  },
  {
   "cell_type": "code",
   "execution_count": 30,
   "metadata": {},
   "outputs": [],
   "source": [
    "from wrangler.data_preprocessing import check_nan"
   ]
  },
  {
   "cell_type": "code",
   "execution_count": 31,
   "metadata": {},
   "outputs": [
    {
     "name": "stdout",
     "output_type": "stream",
     "text": [
      "\n",
      "------------------------- Count and Percentage of missing value -------------------------\n",
      "\n"
     ]
    },
    {
     "data": {
      "text/html": [
       "<div>\n",
       "<style scoped>\n",
       "    .dataframe tbody tr th:only-of-type {\n",
       "        vertical-align: middle;\n",
       "    }\n",
       "\n",
       "    .dataframe tbody tr th {\n",
       "        vertical-align: top;\n",
       "    }\n",
       "\n",
       "    .dataframe thead th {\n",
       "        text-align: right;\n",
       "    }\n",
       "</style>\n",
       "<table border=\"1\" class=\"dataframe\">\n",
       "  <thead>\n",
       "    <tr style=\"text-align: right;\">\n",
       "      <th></th>\n",
       "      <th>features</th>\n",
       "      <th>missing_counts</th>\n",
       "      <th>missing_percent</th>\n",
       "    </tr>\n",
       "  </thead>\n",
       "  <tbody>\n",
       "    <tr>\n",
       "      <th>0</th>\n",
       "      <td>book_id</td>\n",
       "      <td>0</td>\n",
       "      <td>0.0</td>\n",
       "    </tr>\n",
       "    <tr>\n",
       "      <th>1</th>\n",
       "      <td>book_title</td>\n",
       "      <td>0</td>\n",
       "      <td>0.0</td>\n",
       "    </tr>\n",
       "    <tr>\n",
       "      <th>2</th>\n",
       "      <td>book_authors</td>\n",
       "      <td>409</td>\n",
       "      <td>28.2</td>\n",
       "    </tr>\n",
       "    <tr>\n",
       "      <th>3</th>\n",
       "      <td>book_publisher</td>\n",
       "      <td>899</td>\n",
       "      <td>62.0</td>\n",
       "    </tr>\n",
       "    <tr>\n",
       "      <th>4</th>\n",
       "      <td>book_publishedDate</td>\n",
       "      <td>15</td>\n",
       "      <td>1.0</td>\n",
       "    </tr>\n",
       "    <tr>\n",
       "      <th>5</th>\n",
       "      <td>book_categories</td>\n",
       "      <td>223</td>\n",
       "      <td>15.4</td>\n",
       "    </tr>\n",
       "    <tr>\n",
       "      <th>6</th>\n",
       "      <td>book_price</td>\n",
       "      <td>0</td>\n",
       "      <td>0.0</td>\n",
       "    </tr>\n",
       "    <tr>\n",
       "      <th>7</th>\n",
       "      <td>book_pages</td>\n",
       "      <td>0</td>\n",
       "      <td>0.0</td>\n",
       "    </tr>\n",
       "    <tr>\n",
       "      <th>8</th>\n",
       "      <td>checkout_date_checkout</td>\n",
       "      <td>0</td>\n",
       "      <td>0.0</td>\n",
       "    </tr>\n",
       "    <tr>\n",
       "      <th>9</th>\n",
       "      <td>checkout_date_returned</td>\n",
       "      <td>0</td>\n",
       "      <td>0.0</td>\n",
       "    </tr>\n",
       "    <tr>\n",
       "      <th>10</th>\n",
       "      <td>customer_id</td>\n",
       "      <td>0</td>\n",
       "      <td>0.0</td>\n",
       "    </tr>\n",
       "    <tr>\n",
       "      <th>11</th>\n",
       "      <td>customer_name</td>\n",
       "      <td>0</td>\n",
       "      <td>0.0</td>\n",
       "    </tr>\n",
       "    <tr>\n",
       "      <th>12</th>\n",
       "      <td>customer_street_address</td>\n",
       "      <td>0</td>\n",
       "      <td>0.0</td>\n",
       "    </tr>\n",
       "    <tr>\n",
       "      <th>13</th>\n",
       "      <td>customer_city</td>\n",
       "      <td>0</td>\n",
       "      <td>0.0</td>\n",
       "    </tr>\n",
       "    <tr>\n",
       "      <th>14</th>\n",
       "      <td>customer_state</td>\n",
       "      <td>0</td>\n",
       "      <td>0.0</td>\n",
       "    </tr>\n",
       "    <tr>\n",
       "      <th>15</th>\n",
       "      <td>customer_zipcode</td>\n",
       "      <td>0</td>\n",
       "      <td>0.0</td>\n",
       "    </tr>\n",
       "    <tr>\n",
       "      <th>16</th>\n",
       "      <td>customer_birth_date</td>\n",
       "      <td>74</td>\n",
       "      <td>5.1</td>\n",
       "    </tr>\n",
       "    <tr>\n",
       "      <th>17</th>\n",
       "      <td>customer_gender</td>\n",
       "      <td>0</td>\n",
       "      <td>0.0</td>\n",
       "    </tr>\n",
       "    <tr>\n",
       "      <th>18</th>\n",
       "      <td>customer_education</td>\n",
       "      <td>0</td>\n",
       "      <td>0.0</td>\n",
       "    </tr>\n",
       "    <tr>\n",
       "      <th>19</th>\n",
       "      <td>customer_occupation</td>\n",
       "      <td>0</td>\n",
       "      <td>0.0</td>\n",
       "    </tr>\n",
       "    <tr>\n",
       "      <th>20</th>\n",
       "      <td>library_id</td>\n",
       "      <td>0</td>\n",
       "      <td>0.0</td>\n",
       "    </tr>\n",
       "    <tr>\n",
       "      <th>21</th>\n",
       "      <td>library_name</td>\n",
       "      <td>0</td>\n",
       "      <td>0.0</td>\n",
       "    </tr>\n",
       "    <tr>\n",
       "      <th>22</th>\n",
       "      <td>library_street_address</td>\n",
       "      <td>0</td>\n",
       "      <td>0.0</td>\n",
       "    </tr>\n",
       "    <tr>\n",
       "      <th>23</th>\n",
       "      <td>library_city</td>\n",
       "      <td>0</td>\n",
       "      <td>0.0</td>\n",
       "    </tr>\n",
       "    <tr>\n",
       "      <th>24</th>\n",
       "      <td>library_region</td>\n",
       "      <td>0</td>\n",
       "      <td>0.0</td>\n",
       "    </tr>\n",
       "    <tr>\n",
       "      <th>25</th>\n",
       "      <td>library_postal_code</td>\n",
       "      <td>0</td>\n",
       "      <td>0.0</td>\n",
       "    </tr>\n",
       "    <tr>\n",
       "      <th>26</th>\n",
       "      <td>checkout_date_checkout_year</td>\n",
       "      <td>0</td>\n",
       "      <td>0.0</td>\n",
       "    </tr>\n",
       "    <tr>\n",
       "      <th>27</th>\n",
       "      <td>checkout_date_checkout_month</td>\n",
       "      <td>0</td>\n",
       "      <td>0.0</td>\n",
       "    </tr>\n",
       "    <tr>\n",
       "      <th>28</th>\n",
       "      <td>checkout_date_checkout_day</td>\n",
       "      <td>0</td>\n",
       "      <td>0.0</td>\n",
       "    </tr>\n",
       "    <tr>\n",
       "      <th>29</th>\n",
       "      <td>checkout_date_returned_year</td>\n",
       "      <td>0</td>\n",
       "      <td>0.0</td>\n",
       "    </tr>\n",
       "    <tr>\n",
       "      <th>30</th>\n",
       "      <td>checkout_date_returned_month</td>\n",
       "      <td>0</td>\n",
       "      <td>0.0</td>\n",
       "    </tr>\n",
       "    <tr>\n",
       "      <th>31</th>\n",
       "      <td>checkout_date_returned_day</td>\n",
       "      <td>0</td>\n",
       "      <td>0.0</td>\n",
       "    </tr>\n",
       "    <tr>\n",
       "      <th>32</th>\n",
       "      <td>customer_age</td>\n",
       "      <td>0</td>\n",
       "      <td>0.0</td>\n",
       "    </tr>\n",
       "    <tr>\n",
       "      <th>33</th>\n",
       "      <td>period</td>\n",
       "      <td>0</td>\n",
       "      <td>0.0</td>\n",
       "    </tr>\n",
       "    <tr>\n",
       "      <th>34</th>\n",
       "      <td>target</td>\n",
       "      <td>0</td>\n",
       "      <td>0.0</td>\n",
       "    </tr>\n",
       "    <tr>\n",
       "      <th>35</th>\n",
       "      <td>book_age</td>\n",
       "      <td>0</td>\n",
       "      <td>0.0</td>\n",
       "    </tr>\n",
       "    <tr>\n",
       "      <th>36</th>\n",
       "      <td>all_text</td>\n",
       "      <td>0</td>\n",
       "      <td>0.0</td>\n",
       "    </tr>\n",
       "    <tr>\n",
       "      <th>37</th>\n",
       "      <td>library_location</td>\n",
       "      <td>0</td>\n",
       "      <td>0.0</td>\n",
       "    </tr>\n",
       "  </tbody>\n",
       "</table>\n",
       "</div>"
      ],
      "text/plain": [
       "                        features  missing_counts  missing_percent\n",
       "0                        book_id               0              0.0\n",
       "1                     book_title               0              0.0\n",
       "2                   book_authors             409             28.2\n",
       "3                 book_publisher             899             62.0\n",
       "4             book_publishedDate              15              1.0\n",
       "5                book_categories             223             15.4\n",
       "6                     book_price               0              0.0\n",
       "7                     book_pages               0              0.0\n",
       "8         checkout_date_checkout               0              0.0\n",
       "9         checkout_date_returned               0              0.0\n",
       "10                   customer_id               0              0.0\n",
       "11                 customer_name               0              0.0\n",
       "12       customer_street_address               0              0.0\n",
       "13                 customer_city               0              0.0\n",
       "14                customer_state               0              0.0\n",
       "15              customer_zipcode               0              0.0\n",
       "16           customer_birth_date              74              5.1\n",
       "17               customer_gender               0              0.0\n",
       "18            customer_education               0              0.0\n",
       "19           customer_occupation               0              0.0\n",
       "20                    library_id               0              0.0\n",
       "21                  library_name               0              0.0\n",
       "22        library_street_address               0              0.0\n",
       "23                  library_city               0              0.0\n",
       "24                library_region               0              0.0\n",
       "25           library_postal_code               0              0.0\n",
       "26   checkout_date_checkout_year               0              0.0\n",
       "27  checkout_date_checkout_month               0              0.0\n",
       "28    checkout_date_checkout_day               0              0.0\n",
       "29   checkout_date_returned_year               0              0.0\n",
       "30  checkout_date_returned_month               0              0.0\n",
       "31    checkout_date_returned_day               0              0.0\n",
       "32                  customer_age               0              0.0\n",
       "33                        period               0              0.0\n",
       "34                        target               0              0.0\n",
       "35                      book_age               0              0.0\n",
       "36                      all_text               0              0.0\n",
       "37              library_location               0              0.0"
      ]
     },
     "metadata": {},
     "output_type": "display_data"
    }
   ],
   "source": [
    "#Check the percentage distribution of NaN values in the dataset\n",
    "check_nan(wr4)"
   ]
  },
  {
   "cell_type": "code",
   "execution_count": 32,
   "metadata": {},
   "outputs": [],
   "source": [
    "# Since 62% of the publisher column is missing (>50%), the column will be dropped\n",
    "from wrangler.data_preprocessing import drop_cols\n",
    "wr4 = drop_cols(wr4, ['book_publisher'])"
   ]
  },
  {
   "cell_type": "code",
   "execution_count": 141,
   "metadata": {},
   "outputs": [],
   "source": [
    "# wr4.to_csv(\"data/master_df2.csv\", index=False)"
   ]
  },
  {
   "cell_type": "code",
   "execution_count": 33,
   "metadata": {},
   "outputs": [
    {
     "data": {
      "text/html": [
       "<div>\n",
       "<style scoped>\n",
       "    .dataframe tbody tr th:only-of-type {\n",
       "        vertical-align: middle;\n",
       "    }\n",
       "\n",
       "    .dataframe tbody tr th {\n",
       "        vertical-align: top;\n",
       "    }\n",
       "\n",
       "    .dataframe thead th {\n",
       "        text-align: right;\n",
       "    }\n",
       "</style>\n",
       "<table border=\"1\" class=\"dataframe\">\n",
       "  <thead>\n",
       "    <tr style=\"text-align: right;\">\n",
       "      <th></th>\n",
       "      <th>book_price</th>\n",
       "      <th>book_pages</th>\n",
       "      <th>customer_zipcode</th>\n",
       "      <th>library_postal_code</th>\n",
       "      <th>checkout_date_checkout_year</th>\n",
       "      <th>checkout_date_returned_year</th>\n",
       "      <th>customer_age</th>\n",
       "      <th>period</th>\n",
       "      <th>target</th>\n",
       "      <th>book_age</th>\n",
       "    </tr>\n",
       "  </thead>\n",
       "  <tbody>\n",
       "    <tr>\n",
       "      <th>count</th>\n",
       "      <td>1451.000000</td>\n",
       "      <td>1451.000000</td>\n",
       "      <td>1451.000000</td>\n",
       "      <td>1451.000000</td>\n",
       "      <td>1451.0</td>\n",
       "      <td>1451.000000</td>\n",
       "      <td>1451.000000</td>\n",
       "      <td>1451.000000</td>\n",
       "      <td>1451.000000</td>\n",
       "      <td>1451.000000</td>\n",
       "    </tr>\n",
       "    <tr>\n",
       "      <th>mean</th>\n",
       "      <td>15861.209511</td>\n",
       "      <td>590.717436</td>\n",
       "      <td>972362.667126</td>\n",
       "      <td>80933.437629</td>\n",
       "      <td>2018.0</td>\n",
       "      <td>2018.064094</td>\n",
       "      <td>39.988284</td>\n",
       "      <td>24.117161</td>\n",
       "      <td>0.090972</td>\n",
       "      <td>59.354928</td>\n",
       "    </tr>\n",
       "    <tr>\n",
       "      <th>std</th>\n",
       "      <td>17530.713757</td>\n",
       "      <td>170.540342</td>\n",
       "      <td>2089.555369</td>\n",
       "      <td>36311.766427</td>\n",
       "      <td>0.0</td>\n",
       "      <td>0.245004</td>\n",
       "      <td>48.466589</td>\n",
       "      <td>29.847683</td>\n",
       "      <td>0.287668</td>\n",
       "      <td>51.821006</td>\n",
       "    </tr>\n",
       "    <tr>\n",
       "      <th>min</th>\n",
       "      <td>0.000000</td>\n",
       "      <td>124.000000</td>\n",
       "      <td>970050.000000</td>\n",
       "      <td>0.000000</td>\n",
       "      <td>2018.0</td>\n",
       "      <td>2018.000000</td>\n",
       "      <td>-102.000000</td>\n",
       "      <td>5.000000</td>\n",
       "      <td>0.000000</td>\n",
       "      <td>-3.000000</td>\n",
       "    </tr>\n",
       "    <tr>\n",
       "      <th>25%</th>\n",
       "      <td>2802.500000</td>\n",
       "      <td>479.000000</td>\n",
       "      <td>972090.000000</td>\n",
       "      <td>97203.000000</td>\n",
       "      <td>2018.0</td>\n",
       "      <td>2018.000000</td>\n",
       "      <td>23.000000</td>\n",
       "      <td>11.000000</td>\n",
       "      <td>0.000000</td>\n",
       "      <td>13.000000</td>\n",
       "    </tr>\n",
       "    <tr>\n",
       "      <th>50%</th>\n",
       "      <td>5260.000000</td>\n",
       "      <td>587.000000</td>\n",
       "      <td>972160.000000</td>\n",
       "      <td>97212.000000</td>\n",
       "      <td>2018.0</td>\n",
       "      <td>2018.000000</td>\n",
       "      <td>40.000000</td>\n",
       "      <td>17.000000</td>\n",
       "      <td>0.000000</td>\n",
       "      <td>39.000000</td>\n",
       "    </tr>\n",
       "    <tr>\n",
       "      <th>75%</th>\n",
       "      <td>30099.000000</td>\n",
       "      <td>698.000000</td>\n",
       "      <td>972220.000000</td>\n",
       "      <td>97217.000000</td>\n",
       "      <td>2018.0</td>\n",
       "      <td>2018.000000</td>\n",
       "      <td>54.000000</td>\n",
       "      <td>23.000000</td>\n",
       "      <td>0.000000</td>\n",
       "      <td>106.000000</td>\n",
       "    </tr>\n",
       "    <tr>\n",
       "      <th>max</th>\n",
       "      <td>70799.000000</td>\n",
       "      <td>1154.000000</td>\n",
       "      <td>986850.000000</td>\n",
       "      <td>97239.000000</td>\n",
       "      <td>2018.0</td>\n",
       "      <td>2019.000000</td>\n",
       "      <td>219.000000</td>\n",
       "      <td>179.000000</td>\n",
       "      <td>1.000000</td>\n",
       "      <td>189.000000</td>\n",
       "    </tr>\n",
       "  </tbody>\n",
       "</table>\n",
       "</div>"
      ],
      "text/plain": [
       "         book_price   book_pages  customer_zipcode  library_postal_code  \\\n",
       "count   1451.000000  1451.000000       1451.000000          1451.000000   \n",
       "mean   15861.209511   590.717436     972362.667126         80933.437629   \n",
       "std    17530.713757   170.540342       2089.555369         36311.766427   \n",
       "min        0.000000   124.000000     970050.000000             0.000000   \n",
       "25%     2802.500000   479.000000     972090.000000         97203.000000   \n",
       "50%     5260.000000   587.000000     972160.000000         97212.000000   \n",
       "75%    30099.000000   698.000000     972220.000000         97217.000000   \n",
       "max    70799.000000  1154.000000     986850.000000         97239.000000   \n",
       "\n",
       "       checkout_date_checkout_year  checkout_date_returned_year  customer_age  \\\n",
       "count                       1451.0                  1451.000000   1451.000000   \n",
       "mean                        2018.0                  2018.064094     39.988284   \n",
       "std                            0.0                     0.245004     48.466589   \n",
       "min                         2018.0                  2018.000000   -102.000000   \n",
       "25%                         2018.0                  2018.000000     23.000000   \n",
       "50%                         2018.0                  2018.000000     40.000000   \n",
       "75%                         2018.0                  2018.000000     54.000000   \n",
       "max                         2018.0                  2019.000000    219.000000   \n",
       "\n",
       "            period       target     book_age  \n",
       "count  1451.000000  1451.000000  1451.000000  \n",
       "mean     24.117161     0.090972    59.354928  \n",
       "std      29.847683     0.287668    51.821006  \n",
       "min       5.000000     0.000000    -3.000000  \n",
       "25%      11.000000     0.000000    13.000000  \n",
       "50%      17.000000     0.000000    39.000000  \n",
       "75%      23.000000     0.000000   106.000000  \n",
       "max     179.000000     1.000000   189.000000  "
      ]
     },
     "execution_count": 33,
     "metadata": {},
     "output_type": "execute_result"
    }
   ],
   "source": [
    "wr4.describe()"
   ]
  },
  {
   "cell_type": "code",
   "execution_count": 34,
   "metadata": {},
   "outputs": [],
   "source": [
    "#detect, fix outliers before handling NaN values\n",
    "from wrangler.data_preprocessing import detect_fix_outliers, handle_nan\n",
    "wr5 = detect_fix_outliers(wr4, target_column='target', verbose=False)\n",
    "wr5 = handle_nan(wr5)"
   ]
  },
  {
   "cell_type": "code",
   "execution_count": 35,
   "metadata": {},
   "outputs": [
    {
     "name": "stdout",
     "output_type": "stream",
     "text": [
      "\n",
      "------------------------- Count and Percentage of missing value -------------------------\n",
      "\n"
     ]
    },
    {
     "data": {
      "text/html": [
       "<div>\n",
       "<style scoped>\n",
       "    .dataframe tbody tr th:only-of-type {\n",
       "        vertical-align: middle;\n",
       "    }\n",
       "\n",
       "    .dataframe tbody tr th {\n",
       "        vertical-align: top;\n",
       "    }\n",
       "\n",
       "    .dataframe thead th {\n",
       "        text-align: right;\n",
       "    }\n",
       "</style>\n",
       "<table border=\"1\" class=\"dataframe\">\n",
       "  <thead>\n",
       "    <tr style=\"text-align: right;\">\n",
       "      <th></th>\n",
       "      <th>features</th>\n",
       "      <th>missing_counts</th>\n",
       "      <th>missing_percent</th>\n",
       "    </tr>\n",
       "  </thead>\n",
       "  <tbody>\n",
       "    <tr>\n",
       "      <th>0</th>\n",
       "      <td>book_id</td>\n",
       "      <td>0</td>\n",
       "      <td>0.0</td>\n",
       "    </tr>\n",
       "    <tr>\n",
       "      <th>1</th>\n",
       "      <td>book_title</td>\n",
       "      <td>0</td>\n",
       "      <td>0.0</td>\n",
       "    </tr>\n",
       "    <tr>\n",
       "      <th>2</th>\n",
       "      <td>book_authors</td>\n",
       "      <td>0</td>\n",
       "      <td>0.0</td>\n",
       "    </tr>\n",
       "    <tr>\n",
       "      <th>3</th>\n",
       "      <td>book_publishedDate</td>\n",
       "      <td>0</td>\n",
       "      <td>0.0</td>\n",
       "    </tr>\n",
       "    <tr>\n",
       "      <th>4</th>\n",
       "      <td>book_categories</td>\n",
       "      <td>0</td>\n",
       "      <td>0.0</td>\n",
       "    </tr>\n",
       "    <tr>\n",
       "      <th>5</th>\n",
       "      <td>book_price</td>\n",
       "      <td>0</td>\n",
       "      <td>0.0</td>\n",
       "    </tr>\n",
       "    <tr>\n",
       "      <th>6</th>\n",
       "      <td>book_pages</td>\n",
       "      <td>0</td>\n",
       "      <td>0.0</td>\n",
       "    </tr>\n",
       "    <tr>\n",
       "      <th>7</th>\n",
       "      <td>checkout_date_checkout</td>\n",
       "      <td>0</td>\n",
       "      <td>0.0</td>\n",
       "    </tr>\n",
       "    <tr>\n",
       "      <th>8</th>\n",
       "      <td>checkout_date_returned</td>\n",
       "      <td>0</td>\n",
       "      <td>0.0</td>\n",
       "    </tr>\n",
       "    <tr>\n",
       "      <th>9</th>\n",
       "      <td>customer_id</td>\n",
       "      <td>0</td>\n",
       "      <td>0.0</td>\n",
       "    </tr>\n",
       "    <tr>\n",
       "      <th>10</th>\n",
       "      <td>customer_name</td>\n",
       "      <td>0</td>\n",
       "      <td>0.0</td>\n",
       "    </tr>\n",
       "    <tr>\n",
       "      <th>11</th>\n",
       "      <td>customer_street_address</td>\n",
       "      <td>0</td>\n",
       "      <td>0.0</td>\n",
       "    </tr>\n",
       "    <tr>\n",
       "      <th>12</th>\n",
       "      <td>customer_city</td>\n",
       "      <td>0</td>\n",
       "      <td>0.0</td>\n",
       "    </tr>\n",
       "    <tr>\n",
       "      <th>13</th>\n",
       "      <td>customer_state</td>\n",
       "      <td>0</td>\n",
       "      <td>0.0</td>\n",
       "    </tr>\n",
       "    <tr>\n",
       "      <th>14</th>\n",
       "      <td>customer_zipcode</td>\n",
       "      <td>0</td>\n",
       "      <td>0.0</td>\n",
       "    </tr>\n",
       "    <tr>\n",
       "      <th>15</th>\n",
       "      <td>customer_birth_date</td>\n",
       "      <td>0</td>\n",
       "      <td>0.0</td>\n",
       "    </tr>\n",
       "    <tr>\n",
       "      <th>16</th>\n",
       "      <td>customer_gender</td>\n",
       "      <td>0</td>\n",
       "      <td>0.0</td>\n",
       "    </tr>\n",
       "    <tr>\n",
       "      <th>17</th>\n",
       "      <td>customer_education</td>\n",
       "      <td>0</td>\n",
       "      <td>0.0</td>\n",
       "    </tr>\n",
       "    <tr>\n",
       "      <th>18</th>\n",
       "      <td>customer_occupation</td>\n",
       "      <td>0</td>\n",
       "      <td>0.0</td>\n",
       "    </tr>\n",
       "    <tr>\n",
       "      <th>19</th>\n",
       "      <td>library_id</td>\n",
       "      <td>0</td>\n",
       "      <td>0.0</td>\n",
       "    </tr>\n",
       "    <tr>\n",
       "      <th>20</th>\n",
       "      <td>library_name</td>\n",
       "      <td>0</td>\n",
       "      <td>0.0</td>\n",
       "    </tr>\n",
       "    <tr>\n",
       "      <th>21</th>\n",
       "      <td>library_street_address</td>\n",
       "      <td>0</td>\n",
       "      <td>0.0</td>\n",
       "    </tr>\n",
       "    <tr>\n",
       "      <th>22</th>\n",
       "      <td>library_city</td>\n",
       "      <td>0</td>\n",
       "      <td>0.0</td>\n",
       "    </tr>\n",
       "    <tr>\n",
       "      <th>23</th>\n",
       "      <td>library_region</td>\n",
       "      <td>0</td>\n",
       "      <td>0.0</td>\n",
       "    </tr>\n",
       "    <tr>\n",
       "      <th>24</th>\n",
       "      <td>library_postal_code</td>\n",
       "      <td>0</td>\n",
       "      <td>0.0</td>\n",
       "    </tr>\n",
       "    <tr>\n",
       "      <th>25</th>\n",
       "      <td>checkout_date_checkout_year</td>\n",
       "      <td>0</td>\n",
       "      <td>0.0</td>\n",
       "    </tr>\n",
       "    <tr>\n",
       "      <th>26</th>\n",
       "      <td>checkout_date_checkout_month</td>\n",
       "      <td>0</td>\n",
       "      <td>0.0</td>\n",
       "    </tr>\n",
       "    <tr>\n",
       "      <th>27</th>\n",
       "      <td>checkout_date_checkout_day</td>\n",
       "      <td>0</td>\n",
       "      <td>0.0</td>\n",
       "    </tr>\n",
       "    <tr>\n",
       "      <th>28</th>\n",
       "      <td>checkout_date_returned_year</td>\n",
       "      <td>0</td>\n",
       "      <td>0.0</td>\n",
       "    </tr>\n",
       "    <tr>\n",
       "      <th>29</th>\n",
       "      <td>checkout_date_returned_month</td>\n",
       "      <td>0</td>\n",
       "      <td>0.0</td>\n",
       "    </tr>\n",
       "    <tr>\n",
       "      <th>30</th>\n",
       "      <td>checkout_date_returned_day</td>\n",
       "      <td>0</td>\n",
       "      <td>0.0</td>\n",
       "    </tr>\n",
       "    <tr>\n",
       "      <th>31</th>\n",
       "      <td>customer_age</td>\n",
       "      <td>0</td>\n",
       "      <td>0.0</td>\n",
       "    </tr>\n",
       "    <tr>\n",
       "      <th>32</th>\n",
       "      <td>period</td>\n",
       "      <td>0</td>\n",
       "      <td>0.0</td>\n",
       "    </tr>\n",
       "    <tr>\n",
       "      <th>33</th>\n",
       "      <td>target</td>\n",
       "      <td>0</td>\n",
       "      <td>0.0</td>\n",
       "    </tr>\n",
       "    <tr>\n",
       "      <th>34</th>\n",
       "      <td>book_age</td>\n",
       "      <td>0</td>\n",
       "      <td>0.0</td>\n",
       "    </tr>\n",
       "    <tr>\n",
       "      <th>35</th>\n",
       "      <td>all_text</td>\n",
       "      <td>0</td>\n",
       "      <td>0.0</td>\n",
       "    </tr>\n",
       "    <tr>\n",
       "      <th>36</th>\n",
       "      <td>library_location</td>\n",
       "      <td>0</td>\n",
       "      <td>0.0</td>\n",
       "    </tr>\n",
       "  </tbody>\n",
       "</table>\n",
       "</div>"
      ],
      "text/plain": [
       "                        features  missing_counts  missing_percent\n",
       "0                        book_id               0              0.0\n",
       "1                     book_title               0              0.0\n",
       "2                   book_authors               0              0.0\n",
       "3             book_publishedDate               0              0.0\n",
       "4                book_categories               0              0.0\n",
       "5                     book_price               0              0.0\n",
       "6                     book_pages               0              0.0\n",
       "7         checkout_date_checkout               0              0.0\n",
       "8         checkout_date_returned               0              0.0\n",
       "9                    customer_id               0              0.0\n",
       "10                 customer_name               0              0.0\n",
       "11       customer_street_address               0              0.0\n",
       "12                 customer_city               0              0.0\n",
       "13                customer_state               0              0.0\n",
       "14              customer_zipcode               0              0.0\n",
       "15           customer_birth_date               0              0.0\n",
       "16               customer_gender               0              0.0\n",
       "17            customer_education               0              0.0\n",
       "18           customer_occupation               0              0.0\n",
       "19                    library_id               0              0.0\n",
       "20                  library_name               0              0.0\n",
       "21        library_street_address               0              0.0\n",
       "22                  library_city               0              0.0\n",
       "23                library_region               0              0.0\n",
       "24           library_postal_code               0              0.0\n",
       "25   checkout_date_checkout_year               0              0.0\n",
       "26  checkout_date_checkout_month               0              0.0\n",
       "27    checkout_date_checkout_day               0              0.0\n",
       "28   checkout_date_returned_year               0              0.0\n",
       "29  checkout_date_returned_month               0              0.0\n",
       "30    checkout_date_returned_day               0              0.0\n",
       "31                  customer_age               0              0.0\n",
       "32                        period               0              0.0\n",
       "33                        target               0              0.0\n",
       "34                      book_age               0              0.0\n",
       "35                      all_text               0              0.0\n",
       "36              library_location               0              0.0"
      ]
     },
     "metadata": {},
     "output_type": "display_data"
    }
   ],
   "source": [
    "check_nan(wr5)"
   ]
  },
  {
   "cell_type": "code",
   "execution_count": 36,
   "metadata": {},
   "outputs": [
    {
     "data": {
      "text/html": [
       "<div>\n",
       "<style scoped>\n",
       "    .dataframe tbody tr th:only-of-type {\n",
       "        vertical-align: middle;\n",
       "    }\n",
       "\n",
       "    .dataframe tbody tr th {\n",
       "        vertical-align: top;\n",
       "    }\n",
       "\n",
       "    .dataframe thead th {\n",
       "        text-align: right;\n",
       "    }\n",
       "</style>\n",
       "<table border=\"1\" class=\"dataframe\">\n",
       "  <thead>\n",
       "    <tr style=\"text-align: right;\">\n",
       "      <th></th>\n",
       "      <th>book_id</th>\n",
       "      <th>book_title</th>\n",
       "      <th>book_authors</th>\n",
       "      <th>book_publishedDate</th>\n",
       "      <th>book_categories</th>\n",
       "      <th>book_price</th>\n",
       "      <th>book_pages</th>\n",
       "      <th>checkout_date_checkout</th>\n",
       "      <th>checkout_date_returned</th>\n",
       "      <th>customer_id</th>\n",
       "      <th>customer_name</th>\n",
       "      <th>customer_street_address</th>\n",
       "      <th>customer_city</th>\n",
       "      <th>customer_state</th>\n",
       "      <th>customer_zipcode</th>\n",
       "      <th>customer_birth_date</th>\n",
       "      <th>customer_gender</th>\n",
       "      <th>customer_education</th>\n",
       "      <th>customer_occupation</th>\n",
       "      <th>library_id</th>\n",
       "      <th>library_name</th>\n",
       "      <th>library_street_address</th>\n",
       "      <th>library_city</th>\n",
       "      <th>library_region</th>\n",
       "      <th>library_postal_code</th>\n",
       "      <th>checkout_date_checkout_year</th>\n",
       "      <th>checkout_date_checkout_month</th>\n",
       "      <th>checkout_date_checkout_day</th>\n",
       "      <th>checkout_date_returned_year</th>\n",
       "      <th>checkout_date_returned_month</th>\n",
       "      <th>checkout_date_returned_day</th>\n",
       "      <th>customer_age</th>\n",
       "      <th>period</th>\n",
       "      <th>target</th>\n",
       "      <th>book_age</th>\n",
       "      <th>all_text</th>\n",
       "      <th>library_location</th>\n",
       "    </tr>\n",
       "  </thead>\n",
       "  <tbody>\n",
       "    <tr>\n",
       "      <th>0</th>\n",
       "      <td>hVFwAAAAQBAJ</td>\n",
       "      <td>Ogilvy on Advertising</td>\n",
       "      <td>David Ogilvy</td>\n",
       "      <td>2013-09-11</td>\n",
       "      <td>Social Science</td>\n",
       "      <td>7299</td>\n",
       "      <td>320.0</td>\n",
       "      <td>2018-01-17</td>\n",
       "      <td>2018-01-31</td>\n",
       "      <td>466d78dd0a6e1beffc1ac2eb19fc17b4</td>\n",
       "      <td>Duncan Cruz</td>\n",
       "      <td>2931 SE Harrison St</td>\n",
       "      <td>portland</td>\n",
       "      <td>oregon</td>\n",
       "      <td>972140.0</td>\n",
       "      <td>1816-05-24</td>\n",
       "      <td>male</td>\n",
       "      <td>nan</td>\n",
       "      <td>sales</td>\n",
       "      <td>226-222@5xc-jxj-7yv</td>\n",
       "      <td>multnomah county library belmont</td>\n",
       "      <td>1038 SE CESAR E CHAVEZ blvd</td>\n",
       "      <td>portland</td>\n",
       "      <td>or</td>\n",
       "      <td>97214.0</td>\n",
       "      <td>2018.0</td>\n",
       "      <td>January</td>\n",
       "      <td>Wednesday</td>\n",
       "      <td>2018.0</td>\n",
       "      <td>January</td>\n",
       "      <td>Wednesday</td>\n",
       "      <td>48.670572</td>\n",
       "      <td>14.0</td>\n",
       "      <td>0</td>\n",
       "      <td>4.0</td>\n",
       "      <td>Ogilvy on Advertising David Ogilvy Social Science</td>\n",
       "      <td>belmont</td>\n",
       "    </tr>\n",
       "    <tr>\n",
       "      <th>1</th>\n",
       "      <td>hVFwAAAAQBAJ</td>\n",
       "      <td>Ogilvy on Advertising</td>\n",
       "      <td>David Ogilvy</td>\n",
       "      <td>2013-09-11</td>\n",
       "      <td>Social Science</td>\n",
       "      <td>7299</td>\n",
       "      <td>320.0</td>\n",
       "      <td>2018-04-05</td>\n",
       "      <td>2018-04-24</td>\n",
       "      <td>93500f374fb5f330d47e89b30af648f5</td>\n",
       "      <td>Robert Moretti</td>\n",
       "      <td>230 SW Woods st</td>\n",
       "      <td>portland</td>\n",
       "      <td>oregon</td>\n",
       "      <td>972010.0</td>\n",
       "      <td>2004-03-29</td>\n",
       "      <td>male</td>\n",
       "      <td>college</td>\n",
       "      <td>admin &amp; support</td>\n",
       "      <td>226-222@5xc-jxj-7yv</td>\n",
       "      <td>multnomah county library belmont</td>\n",
       "      <td>1038 SE CESAR E CHAVEZ blvd</td>\n",
       "      <td>portland</td>\n",
       "      <td>or</td>\n",
       "      <td>97214.0</td>\n",
       "      <td>2018.0</td>\n",
       "      <td>April</td>\n",
       "      <td>Thursday</td>\n",
       "      <td>2018.0</td>\n",
       "      <td>April</td>\n",
       "      <td>Tuesday</td>\n",
       "      <td>14.000000</td>\n",
       "      <td>19.0</td>\n",
       "      <td>0</td>\n",
       "      <td>5.0</td>\n",
       "      <td>Ogilvy on Advertising David Ogilvy Social Science</td>\n",
       "      <td>belmont</td>\n",
       "    </tr>\n",
       "  </tbody>\n",
       "</table>\n",
       "</div>"
      ],
      "text/plain": [
       "        book_id             book_title  book_authors book_publishedDate  \\\n",
       "0  hVFwAAAAQBAJ  Ogilvy on Advertising  David Ogilvy         2013-09-11   \n",
       "1  hVFwAAAAQBAJ  Ogilvy on Advertising  David Ogilvy         2013-09-11   \n",
       "\n",
       "  book_categories  book_price  book_pages checkout_date_checkout  \\\n",
       "0  Social Science        7299       320.0             2018-01-17   \n",
       "1  Social Science        7299       320.0             2018-04-05   \n",
       "\n",
       "  checkout_date_returned                       customer_id   customer_name  \\\n",
       "0             2018-01-31  466d78dd0a6e1beffc1ac2eb19fc17b4     Duncan Cruz   \n",
       "1             2018-04-24  93500f374fb5f330d47e89b30af648f5  Robert Moretti   \n",
       "\n",
       "  customer_street_address customer_city customer_state  customer_zipcode  \\\n",
       "0     2931 SE Harrison St      portland         oregon          972140.0   \n",
       "1         230 SW Woods st      portland         oregon          972010.0   \n",
       "\n",
       "  customer_birth_date customer_gender customer_education customer_occupation  \\\n",
       "0          1816-05-24            male                nan               sales   \n",
       "1          2004-03-29            male            college     admin & support   \n",
       "\n",
       "            library_id                        library_name  \\\n",
       "0  226-222@5xc-jxj-7yv    multnomah county library belmont   \n",
       "1  226-222@5xc-jxj-7yv    multnomah county library belmont   \n",
       "\n",
       "        library_street_address library_city library_region  \\\n",
       "0  1038 SE CESAR E CHAVEZ blvd     portland             or   \n",
       "1  1038 SE CESAR E CHAVEZ blvd     portland             or   \n",
       "\n",
       "   library_postal_code  checkout_date_checkout_year  \\\n",
       "0              97214.0                       2018.0   \n",
       "1              97214.0                       2018.0   \n",
       "\n",
       "  checkout_date_checkout_month checkout_date_checkout_day  \\\n",
       "0                      January                  Wednesday   \n",
       "1                        April                   Thursday   \n",
       "\n",
       "   checkout_date_returned_year checkout_date_returned_month  \\\n",
       "0                       2018.0                      January   \n",
       "1                       2018.0                        April   \n",
       "\n",
       "  checkout_date_returned_day  customer_age  period  target  book_age  \\\n",
       "0                  Wednesday     48.670572    14.0       0       4.0   \n",
       "1                    Tuesday     14.000000    19.0       0       5.0   \n",
       "\n",
       "                                            all_text library_location  \n",
       "0  Ogilvy on Advertising David Ogilvy Social Science          belmont  \n",
       "1  Ogilvy on Advertising David Ogilvy Social Science          belmont  "
      ]
     },
     "execution_count": 36,
     "metadata": {},
     "output_type": "execute_result"
    }
   ],
   "source": [
    "wr5.head(2)"
   ]
  },
  {
   "cell_type": "markdown",
   "metadata": {},
   "source": [
    "## Step 3: Exploratory Data Analysis"
   ]
  },
  {
   "cell_type": "markdown",
   "metadata": {},
   "source": [
    "### 3.1- Visualizations\n",
    "- Word cloud \n",
    "- Target distribution and general stats\n",
    "- Pie chart of day of week and returns\n",
    "- Bar chart of customer city and occupation\n",
    "- Bin age and plot a bar chart of the binned age distribution\n",
    "- Double plotter of library location\n",
    "- Line chart of patronage per month(checkouts)\n",
    "- Line chart of books returned by month\n",
    "- Double plotter of cities and occupation in the library data\n",
    "- Frequency plotter of the education of customers"
   ]
  },
  {
   "cell_type": "code",
   "execution_count": 37,
   "metadata": {},
   "outputs": [
    {
     "name": "stderr",
     "output_type": "stream",
     "text": [
      "[nltk_data] Downloading package stopwords to\n",
      "[nltk_data]     /Users/afolabiadeshola/nltk_data...\n",
      "[nltk_data]   Package stopwords is already up-to-date!\n"
     ]
    }
   ],
   "source": [
    "from wordcloud import WordCloud\n",
    "from wrangler.text_preprocess import preprocess_document_for_fine_tuning\n",
    "#from wrangler.utils import word_cloud\n",
    "word_cloud_list = []\n",
    "for index, row in wr5.iterrows():\n",
    "    document = preprocess_document_for_fine_tuning(row['all_text'].strip()) \n",
    "    word_cloud_list.append(document)"
   ]
  },
  {
   "cell_type": "code",
   "execution_count": 38,
   "metadata": {},
   "outputs": [],
   "source": [
    "from wrangler.viz import word_cloud"
   ]
  },
  {
   "cell_type": "code",
   "execution_count": 39,
   "metadata": {},
   "outputs": [
    {
     "data": {
      "image/png": "[encoded data removed]",
      "text/plain": [
       "<Figure size 432x288 with 1 Axes>"
      ]
     },
     "metadata": {
      "needs_background": "light"
     },
     "output_type": "display_data"
    }
   ],
   "source": [
    "word_cloud(word_cloud_list)"
   ]
  },
  {
   "cell_type": "markdown",
   "metadata": {},
   "source": [
    "### 3.2 - Target Distribution"
   ]
  },
  {
   "cell_type": "code",
   "execution_count": 41,
   "metadata": {},
   "outputs": [
    {
     "data": {
      "text/plain": [
       "0    90.902826\n",
       "1     9.097174\n",
       "Name: target, dtype: float64"
      ]
     },
     "execution_count": 41,
     "metadata": {},
     "output_type": "execute_result"
    }
   ],
   "source": [
    "#Class distribution in the dataset\n",
    "wr5.target.value_counts(normalize=True) * 100"
   ]
  },
  {
   "cell_type": "markdown",
   "metadata": {},
   "source": [
    "- The class distribution for early vs late returns is approximately 91 to 9%, which means more often than not, people return books early enough to the library.\n",
    "- This is a highly imbalanced dataset"
   ]
  },
  {
   "cell_type": "markdown",
   "metadata": {},
   "source": [
    "### 3.2 Average of some relevant fields (General Stats)"
   ]
  },
  {
   "cell_type": "code",
   "execution_count": 42,
   "metadata": {},
   "outputs": [
    {
     "data": {
      "text/plain": [
       "39"
      ]
     },
     "execution_count": 42,
     "metadata": {},
     "output_type": "execute_result"
    }
   ],
   "source": [
    "round(wr5.customer_age.mean())"
   ]
  },
  {
   "cell_type": "code",
   "execution_count": 43,
   "metadata": {},
   "outputs": [
    {
     "data": {
      "text/plain": [
       "17"
      ]
     },
     "execution_count": 43,
     "metadata": {},
     "output_type": "execute_result"
    }
   ],
   "source": [
    "round(wr5.period.mean())"
   ]
  },
  {
   "cell_type": "code",
   "execution_count": 44,
   "metadata": {},
   "outputs": [
    {
     "data": {
      "text/plain": [
       "589"
      ]
     },
     "execution_count": 44,
     "metadata": {},
     "output_type": "execute_result"
    }
   ],
   "source": [
    "round(wr5.book_pages.mean())"
   ]
  },
  {
   "cell_type": "markdown",
   "metadata": {},
   "source": [
    "### 3.3 - Days of the week and book returns"
   ]
  },
  {
   "cell_type": "code",
   "execution_count": 45,
   "metadata": {},
   "outputs": [],
   "source": [
    "from wrangler.viz import plot_pie"
   ]
  },
  {
   "cell_type": "code",
   "execution_count": 46,
   "metadata": {},
   "outputs": [
    {
     "data": {
      "image/png": "[encoded data removed]",
      "text/plain": [
       "<Figure size 792x432 with 1 Axes>"
      ]
     },
     "metadata": {},
     "output_type": "display_data"
    }
   ],
   "source": [
    "plot_pie(wr5, 0, (0.0, 0.1, 0.2, 0.2, 0.1, 0.2, 0.0), (\"cyan\", \"pink\"), 'Days with early returns', size = (11,6))"
   ]
  },
  {
   "cell_type": "code",
   "execution_count": 47,
   "metadata": {},
   "outputs": [
    {
     "data": {
      "image/png": "[encoded data removed]",
      "text/plain": [
       "<Figure size 792x432 with 1 Axes>"
      ]
     },
     "metadata": {},
     "output_type": "display_data"
    }
   ],
   "source": [
    "plot_pie(wr5, 1, (0.2, 0.1, 0.2, 0.3, 0.0, 0.1, 0.0), (\"grey\", \"orange\"), 'Days with late returns', size = (11,6))"
   ]
  },
  {
   "cell_type": "markdown",
   "metadata": {},
   "source": [
    "### 3.4 - Occupation and late book returns"
   ]
  },
  {
   "cell_type": "code",
   "execution_count": 48,
   "metadata": {},
   "outputs": [],
   "source": [
    "from wrangler.viz import bar_chart"
   ]
  },
  {
   "cell_type": "code",
   "execution_count": 55,
   "metadata": {},
   "outputs": [
    {
     "data": {
      "image/png": "[encoded data removed]",
      "text/plain": [
       "<Figure size 1008x576 with 1 Axes>"
      ]
     },
     "metadata": {},
     "output_type": "display_data"
    }
   ],
   "source": [
    "bar_chart(wr5, 'customer_occupation', 'target', 'occupation (job categories) that return books late')"
   ]
  },
  {
   "cell_type": "code",
   "execution_count": 65,
   "metadata": {},
   "outputs": [
    {
     "data": {
      "image/png": "[encoded data removed]",
      "text/plain": [
       "<Figure size 1008x576 with 1 Axes>"
      ]
     },
     "metadata": {},
     "output_type": "display_data"
    }
   ],
   "source": [
    "bar_chart(wr5, 'customer_city', 'target', 'City with late returns peculiarity')"
   ]
  },
  {
   "cell_type": "code",
   "execution_count": 66,
   "metadata": {},
   "outputs": [],
   "source": [
    "from wrangler.data_preprocessing import bin_age"
   ]
  },
  {
   "cell_type": "code",
   "execution_count": 67,
   "metadata": {},
   "outputs": [],
   "source": [
    "wr6 = bin_age(wr5, age_col = 'customer_age')"
   ]
  },
  {
   "cell_type": "code",
   "execution_count": 68,
   "metadata": {},
   "outputs": [
    {
     "data": {
      "text/html": [
       "<div>\n",
       "<style scoped>\n",
       "    .dataframe tbody tr th:only-of-type {\n",
       "        vertical-align: middle;\n",
       "    }\n",
       "\n",
       "    .dataframe tbody tr th {\n",
       "        vertical-align: top;\n",
       "    }\n",
       "\n",
       "    .dataframe thead th {\n",
       "        text-align: right;\n",
       "    }\n",
       "</style>\n",
       "<table border=\"1\" class=\"dataframe\">\n",
       "  <thead>\n",
       "    <tr style=\"text-align: right;\">\n",
       "      <th></th>\n",
       "      <th>book_id</th>\n",
       "      <th>book_title</th>\n",
       "      <th>book_authors</th>\n",
       "      <th>book_publishedDate</th>\n",
       "      <th>book_categories</th>\n",
       "      <th>book_price</th>\n",
       "      <th>book_pages</th>\n",
       "      <th>checkout_date_checkout</th>\n",
       "      <th>checkout_date_returned</th>\n",
       "      <th>customer_id</th>\n",
       "      <th>customer_name</th>\n",
       "      <th>customer_street_address</th>\n",
       "      <th>customer_city</th>\n",
       "      <th>customer_state</th>\n",
       "      <th>customer_zipcode</th>\n",
       "      <th>customer_birth_date</th>\n",
       "      <th>customer_gender</th>\n",
       "      <th>customer_education</th>\n",
       "      <th>customer_occupation</th>\n",
       "      <th>library_id</th>\n",
       "      <th>library_name</th>\n",
       "      <th>library_street_address</th>\n",
       "      <th>library_city</th>\n",
       "      <th>library_region</th>\n",
       "      <th>library_postal_code</th>\n",
       "      <th>checkout_date_checkout_year</th>\n",
       "      <th>checkout_date_checkout_month</th>\n",
       "      <th>checkout_date_checkout_day</th>\n",
       "      <th>checkout_date_returned_year</th>\n",
       "      <th>checkout_date_returned_month</th>\n",
       "      <th>checkout_date_returned_day</th>\n",
       "      <th>customer_age</th>\n",
       "      <th>period</th>\n",
       "      <th>target</th>\n",
       "      <th>book_age</th>\n",
       "      <th>all_text</th>\n",
       "      <th>library_location</th>\n",
       "      <th>binned_customer_age</th>\n",
       "    </tr>\n",
       "  </thead>\n",
       "  <tbody>\n",
       "    <tr>\n",
       "      <th>0</th>\n",
       "      <td>hVFwAAAAQBAJ</td>\n",
       "      <td>Ogilvy on Advertising</td>\n",
       "      <td>David Ogilvy</td>\n",
       "      <td>2013-09-11</td>\n",
       "      <td>Social Science</td>\n",
       "      <td>7299</td>\n",
       "      <td>320.0</td>\n",
       "      <td>2018-01-17</td>\n",
       "      <td>2018-01-31</td>\n",
       "      <td>466d78dd0a6e1beffc1ac2eb19fc17b4</td>\n",
       "      <td>Duncan Cruz</td>\n",
       "      <td>2931 SE Harrison St</td>\n",
       "      <td>portland</td>\n",
       "      <td>oregon</td>\n",
       "      <td>972140.0</td>\n",
       "      <td>1816-05-24</td>\n",
       "      <td>male</td>\n",
       "      <td>high school</td>\n",
       "      <td>sales</td>\n",
       "      <td>226-222@5xc-jxj-7yv</td>\n",
       "      <td>multnomah county library belmont</td>\n",
       "      <td>1038 SE CESAR E CHAVEZ blvd</td>\n",
       "      <td>portland</td>\n",
       "      <td>or</td>\n",
       "      <td>97214.0</td>\n",
       "      <td>2018.0</td>\n",
       "      <td>January</td>\n",
       "      <td>Wednesday</td>\n",
       "      <td>2018.0</td>\n",
       "      <td>January</td>\n",
       "      <td>Wednesday</td>\n",
       "      <td>48.670572</td>\n",
       "      <td>14.0</td>\n",
       "      <td>0</td>\n",
       "      <td>4.0</td>\n",
       "      <td>Ogilvy on Advertising David Ogilvy Social Science</td>\n",
       "      <td>belmont</td>\n",
       "      <td>Elderly</td>\n",
       "    </tr>\n",
       "    <tr>\n",
       "      <th>1</th>\n",
       "      <td>hVFwAAAAQBAJ</td>\n",
       "      <td>Ogilvy on Advertising</td>\n",
       "      <td>David Ogilvy</td>\n",
       "      <td>2013-09-11</td>\n",
       "      <td>Social Science</td>\n",
       "      <td>7299</td>\n",
       "      <td>320.0</td>\n",
       "      <td>2018-04-05</td>\n",
       "      <td>2018-04-24</td>\n",
       "      <td>93500f374fb5f330d47e89b30af648f5</td>\n",
       "      <td>Robert Moretti</td>\n",
       "      <td>230 SW Woods st</td>\n",
       "      <td>portland</td>\n",
       "      <td>oregon</td>\n",
       "      <td>972010.0</td>\n",
       "      <td>2004-03-29</td>\n",
       "      <td>male</td>\n",
       "      <td>college</td>\n",
       "      <td>admin &amp; support</td>\n",
       "      <td>226-222@5xc-jxj-7yv</td>\n",
       "      <td>multnomah county library belmont</td>\n",
       "      <td>1038 SE CESAR E CHAVEZ blvd</td>\n",
       "      <td>portland</td>\n",
       "      <td>or</td>\n",
       "      <td>97214.0</td>\n",
       "      <td>2018.0</td>\n",
       "      <td>April</td>\n",
       "      <td>Thursday</td>\n",
       "      <td>2018.0</td>\n",
       "      <td>April</td>\n",
       "      <td>Tuesday</td>\n",
       "      <td>14.000000</td>\n",
       "      <td>19.0</td>\n",
       "      <td>0</td>\n",
       "      <td>5.0</td>\n",
       "      <td>Ogilvy on Advertising David Ogilvy Social Science</td>\n",
       "      <td>belmont</td>\n",
       "      <td>Child</td>\n",
       "    </tr>\n",
       "  </tbody>\n",
       "</table>\n",
       "</div>"
      ],
      "text/plain": [
       "        book_id             book_title  book_authors book_publishedDate  \\\n",
       "0  hVFwAAAAQBAJ  Ogilvy on Advertising  David Ogilvy         2013-09-11   \n",
       "1  hVFwAAAAQBAJ  Ogilvy on Advertising  David Ogilvy         2013-09-11   \n",
       "\n",
       "  book_categories  book_price  book_pages checkout_date_checkout  \\\n",
       "0  Social Science        7299       320.0             2018-01-17   \n",
       "1  Social Science        7299       320.0             2018-04-05   \n",
       "\n",
       "  checkout_date_returned                       customer_id   customer_name  \\\n",
       "0             2018-01-31  466d78dd0a6e1beffc1ac2eb19fc17b4     Duncan Cruz   \n",
       "1             2018-04-24  93500f374fb5f330d47e89b30af648f5  Robert Moretti   \n",
       "\n",
       "  customer_street_address customer_city customer_state  customer_zipcode  \\\n",
       "0     2931 SE Harrison St      portland         oregon          972140.0   \n",
       "1         230 SW Woods st      portland         oregon          972010.0   \n",
       "\n",
       "  customer_birth_date customer_gender customer_education customer_occupation  \\\n",
       "0          1816-05-24            male        high school               sales   \n",
       "1          2004-03-29            male            college     admin & support   \n",
       "\n",
       "            library_id                        library_name  \\\n",
       "0  226-222@5xc-jxj-7yv    multnomah county library belmont   \n",
       "1  226-222@5xc-jxj-7yv    multnomah county library belmont   \n",
       "\n",
       "        library_street_address library_city library_region  \\\n",
       "0  1038 SE CESAR E CHAVEZ blvd     portland             or   \n",
       "1  1038 SE CESAR E CHAVEZ blvd     portland             or   \n",
       "\n",
       "   library_postal_code  checkout_date_checkout_year  \\\n",
       "0              97214.0                       2018.0   \n",
       "1              97214.0                       2018.0   \n",
       "\n",
       "  checkout_date_checkout_month checkout_date_checkout_day  \\\n",
       "0                      January                  Wednesday   \n",
       "1                        April                   Thursday   \n",
       "\n",
       "   checkout_date_returned_year checkout_date_returned_month  \\\n",
       "0                       2018.0                      January   \n",
       "1                       2018.0                        April   \n",
       "\n",
       "  checkout_date_returned_day  customer_age  period  target  book_age  \\\n",
       "0                  Wednesday     48.670572    14.0       0       4.0   \n",
       "1                    Tuesday     14.000000    19.0       0       5.0   \n",
       "\n",
       "                                            all_text library_location  \\\n",
       "0  Ogilvy on Advertising David Ogilvy Social Science          belmont   \n",
       "1  Ogilvy on Advertising David Ogilvy Social Science          belmont   \n",
       "\n",
       "  binned_customer_age  \n",
       "0             Elderly  \n",
       "1               Child  "
      ]
     },
     "execution_count": 68,
     "metadata": {},
     "output_type": "execute_result"
    }
   ],
   "source": [
    "wr6.head(2)"
   ]
  },
  {
   "cell_type": "code",
   "execution_count": 69,
   "metadata": {},
   "outputs": [],
   "source": [
    "#wr6.groupby('binned_customer_age')['book_title'].value_counts()['Elderly']"
   ]
  },
  {
   "cell_type": "markdown",
   "metadata": {},
   "source": [
    "### 3.5 - Age demography with late returns peculiarity"
   ]
  },
  {
   "cell_type": "code",
   "execution_count": 70,
   "metadata": {},
   "outputs": [
    {
     "data": {
      "image/png": "[encoded data removed]",
      "text/plain": [
       "<Figure size 1008x576 with 1 Axes>"
      ]
     },
     "metadata": {},
     "output_type": "display_data"
    }
   ],
   "source": [
    "bar_chart(wr6, 'binned_customer_age', 'target', 'Age demography with late returns peculiarity')"
   ]
  },
  {
   "cell_type": "markdown",
   "metadata": {},
   "source": [
    "### 3.6 - Multnomah County"
   ]
  },
  {
   "cell_type": "code",
   "execution_count": 71,
   "metadata": {},
   "outputs": [],
   "source": [
    "from wrangler.viz import double_plotter"
   ]
  },
  {
   "cell_type": "code",
   "execution_count": 72,
   "metadata": {},
   "outputs": [
    {
     "data": {
      "text/plain": [
       "<AxesSubplot:title={'center':'return per Multnomah county library'}, xlabel='library_location'>"
      ]
     },
     "execution_count": 72,
     "metadata": {},
     "output_type": "execute_result"
    },
    {
     "data": {
      "image/png": "[encoded data removed]",
      "text/plain": [
       "<Figure size 1224x648 with 1 Axes>"
      ]
     },
     "metadata": {},
     "output_type": "display_data"
    }
   ],
   "source": [
    "double_plotter(wr6, 'library_location', 'target', 'bar', (17,9), \n",
    "               title = 'return per Multnomah county library', rotation = 0)"
   ]
  },
  {
   "cell_type": "markdown",
   "metadata": {},
   "source": [
    "### 3.7 - Patronage by month"
   ]
  },
  {
   "cell_type": "code",
   "execution_count": 73,
   "metadata": {},
   "outputs": [
    {
     "data": {
      "text/plain": [
       "<AxesSubplot:title={'center':'Patronage by month'}>"
      ]
     },
     "execution_count": 73,
     "metadata": {},
     "output_type": "execute_result"
    },
    {
     "data": {
      "image/png": "[encoded data removed]",
      "text/plain": [
       "<Figure size 1008x576 with 1 Axes>"
      ]
     },
     "metadata": {},
     "output_type": "display_data"
    }
   ],
   "source": [
    "#what month of the year recieves the most patronage\n",
    "wr6['checkout_date_checkout_month'].loc[wr6['target'] == 0].value_counts().plot(kind = 'line',\n",
    "                                        linewidth=10,\n",
    "                                        linestyle=(0, (5, 2, 1, 2)),\n",
    "                                        dash_capstyle='round',\n",
    "                                        title = 'Patronage by month')"
   ]
  },
  {
   "cell_type": "code",
   "execution_count": 74,
   "metadata": {},
   "outputs": [
    {
     "data": {
      "text/plain": [
       "<AxesSubplot:title={'center':'Books returned by month'}>"
      ]
     },
     "execution_count": 74,
     "metadata": {},
     "output_type": "execute_result"
    },
    {
     "data": {
      "image/png": "[encoded data removed]",
      "text/plain": [
       "<Figure size 1008x576 with 1 Axes>"
      ]
     },
     "metadata": {},
     "output_type": "display_data"
    }
   ],
   "source": [
    "wr6['checkout_date_returned_month'].loc[wr6['target'] == 0].value_counts().plot(kind = 'line',\n",
    "                                        linewidth=10,\n",
    "                                        linestyle=(0, (5, 2, 1, 2)),\n",
    "                                        dash_capstyle='round',\n",
    "                                        title = 'Books returned by month')"
   ]
  },
  {
   "cell_type": "markdown",
   "metadata": {},
   "source": [
    "### 3.8- Cities and occupation in Library's data"
   ]
  },
  {
   "cell_type": "code",
   "execution_count": 75,
   "metadata": {},
   "outputs": [
    {
     "data": {
      "text/plain": [
       "<AxesSubplot:title={'center':'Patronage by occupation'}, xlabel='customer_city'>"
      ]
     },
     "execution_count": 75,
     "metadata": {},
     "output_type": "execute_result"
    },
    {
     "data": {
      "image/png": "[encoded data removed]",
      "text/plain": [
       "<Figure size 1080x864 with 1 Axes>"
      ]
     },
     "metadata": {},
     "output_type": "display_data"
    }
   ],
   "source": [
    "double_plotter(wr6, 'customer_city', 'customer_occupation', 'bar', (15,12), \\\n",
    "               title =  \"Patronage by occupation\", rotation = 0)"
   ]
  },
  {
   "cell_type": "markdown",
   "metadata": {},
   "source": [
    "### 3.9- The education of customers"
   ]
  },
  {
   "cell_type": "code",
   "execution_count": 76,
   "metadata": {},
   "outputs": [],
   "source": [
    "from wrangler.viz import frequency_plotter"
   ]
  },
  {
   "cell_type": "code",
   "execution_count": 77,
   "metadata": {},
   "outputs": [
    {
     "data": {
      "image/png": "[encoded data removed]",
      "text/plain": [
       "<Figure size 864x576 with 1 Axes>"
      ]
     },
     "metadata": {},
     "output_type": "display_data"
    }
   ],
   "source": [
    "frequency_plotter(wr6, 'customer_education', 'count of Education qualification', 'Education qualification', (12,8))"
   ]
  },
  {
   "cell_type": "code",
   "execution_count": null,
   "metadata": {},
   "outputs": [],
   "source": []
  },
  {
   "cell_type": "markdown",
   "metadata": {},
   "source": [
    "## Step 4 - Data Preparation and Predictive Modeling"
   ]
  },
  {
   "cell_type": "markdown",
   "metadata": {},
   "source": [
    "### 4.1- Import important libraries"
   ]
  },
  {
   "cell_type": "code",
   "execution_count": 78,
   "metadata": {},
   "outputs": [],
   "source": [
    "#importing libraries and sub-modules for model building and evaluation\n",
    "from sklearn.preprocessing import OneHotEncoder, MinMaxScaler\n",
    "from sklearn.model_selection import train_test_split\n",
    "from sklearn.linear_model import LogisticRegression\n",
    "from sklearn.ensemble import RandomForestClassifier, GradientBoostingClassifier\n",
    "from sklearn.metrics import accuracy_score, precision_score, recall_score, f1_score, confusion_matrix\n",
    "\n",
    "lr = LogisticRegression(solver = 'liblinear')\n",
    "rfc = RandomForestClassifier(random_state = 42)\n",
    "gbc = GradientBoostingClassifier(random_state = 42)\n"
   ]
  },
  {
   "cell_type": "code",
   "execution_count": 79,
   "metadata": {},
   "outputs": [
    {
     "data": {
      "text/html": [
       "<div>\n",
       "<style scoped>\n",
       "    .dataframe tbody tr th:only-of-type {\n",
       "        vertical-align: middle;\n",
       "    }\n",
       "\n",
       "    .dataframe tbody tr th {\n",
       "        vertical-align: top;\n",
       "    }\n",
       "\n",
       "    .dataframe thead th {\n",
       "        text-align: right;\n",
       "    }\n",
       "</style>\n",
       "<table border=\"1\" class=\"dataframe\">\n",
       "  <thead>\n",
       "    <tr style=\"text-align: right;\">\n",
       "      <th></th>\n",
       "      <th>book_id</th>\n",
       "      <th>book_title</th>\n",
       "      <th>book_authors</th>\n",
       "      <th>book_publishedDate</th>\n",
       "      <th>book_categories</th>\n",
       "      <th>book_price</th>\n",
       "      <th>book_pages</th>\n",
       "      <th>checkout_date_checkout</th>\n",
       "      <th>checkout_date_returned</th>\n",
       "      <th>customer_id</th>\n",
       "      <th>customer_name</th>\n",
       "      <th>customer_street_address</th>\n",
       "      <th>customer_city</th>\n",
       "      <th>customer_state</th>\n",
       "      <th>customer_zipcode</th>\n",
       "      <th>customer_birth_date</th>\n",
       "      <th>customer_gender</th>\n",
       "      <th>customer_education</th>\n",
       "      <th>customer_occupation</th>\n",
       "      <th>library_id</th>\n",
       "      <th>library_name</th>\n",
       "      <th>library_street_address</th>\n",
       "      <th>library_city</th>\n",
       "      <th>library_region</th>\n",
       "      <th>library_postal_code</th>\n",
       "      <th>checkout_date_checkout_year</th>\n",
       "      <th>checkout_date_checkout_month</th>\n",
       "      <th>checkout_date_checkout_day</th>\n",
       "      <th>checkout_date_returned_year</th>\n",
       "      <th>checkout_date_returned_month</th>\n",
       "      <th>checkout_date_returned_day</th>\n",
       "      <th>customer_age</th>\n",
       "      <th>period</th>\n",
       "      <th>target</th>\n",
       "      <th>book_age</th>\n",
       "      <th>all_text</th>\n",
       "      <th>library_location</th>\n",
       "      <th>binned_customer_age</th>\n",
       "    </tr>\n",
       "  </thead>\n",
       "  <tbody>\n",
       "    <tr>\n",
       "      <th>0</th>\n",
       "      <td>hVFwAAAAQBAJ</td>\n",
       "      <td>Ogilvy on Advertising</td>\n",
       "      <td>David Ogilvy</td>\n",
       "      <td>2013-09-11</td>\n",
       "      <td>Social Science</td>\n",
       "      <td>7299</td>\n",
       "      <td>320.0</td>\n",
       "      <td>2018-01-17</td>\n",
       "      <td>2018-01-31</td>\n",
       "      <td>466d78dd0a6e1beffc1ac2eb19fc17b4</td>\n",
       "      <td>Duncan Cruz</td>\n",
       "      <td>2931 SE Harrison St</td>\n",
       "      <td>portland</td>\n",
       "      <td>oregon</td>\n",
       "      <td>972140.0</td>\n",
       "      <td>1816-05-24</td>\n",
       "      <td>male</td>\n",
       "      <td>high school</td>\n",
       "      <td>sales</td>\n",
       "      <td>226-222@5xc-jxj-7yv</td>\n",
       "      <td>multnomah county library belmont</td>\n",
       "      <td>1038 SE CESAR E CHAVEZ blvd</td>\n",
       "      <td>portland</td>\n",
       "      <td>or</td>\n",
       "      <td>97214.0</td>\n",
       "      <td>2018.0</td>\n",
       "      <td>January</td>\n",
       "      <td>Wednesday</td>\n",
       "      <td>2018.0</td>\n",
       "      <td>January</td>\n",
       "      <td>Wednesday</td>\n",
       "      <td>48.670572</td>\n",
       "      <td>14.0</td>\n",
       "      <td>0</td>\n",
       "      <td>4.0</td>\n",
       "      <td>Ogilvy on Advertising David Ogilvy Social Science</td>\n",
       "      <td>belmont</td>\n",
       "      <td>Elderly</td>\n",
       "    </tr>\n",
       "    <tr>\n",
       "      <th>1</th>\n",
       "      <td>hVFwAAAAQBAJ</td>\n",
       "      <td>Ogilvy on Advertising</td>\n",
       "      <td>David Ogilvy</td>\n",
       "      <td>2013-09-11</td>\n",
       "      <td>Social Science</td>\n",
       "      <td>7299</td>\n",
       "      <td>320.0</td>\n",
       "      <td>2018-04-05</td>\n",
       "      <td>2018-04-24</td>\n",
       "      <td>93500f374fb5f330d47e89b30af648f5</td>\n",
       "      <td>Robert Moretti</td>\n",
       "      <td>230 SW Woods st</td>\n",
       "      <td>portland</td>\n",
       "      <td>oregon</td>\n",
       "      <td>972010.0</td>\n",
       "      <td>2004-03-29</td>\n",
       "      <td>male</td>\n",
       "      <td>college</td>\n",
       "      <td>admin &amp; support</td>\n",
       "      <td>226-222@5xc-jxj-7yv</td>\n",
       "      <td>multnomah county library belmont</td>\n",
       "      <td>1038 SE CESAR E CHAVEZ blvd</td>\n",
       "      <td>portland</td>\n",
       "      <td>or</td>\n",
       "      <td>97214.0</td>\n",
       "      <td>2018.0</td>\n",
       "      <td>April</td>\n",
       "      <td>Thursday</td>\n",
       "      <td>2018.0</td>\n",
       "      <td>April</td>\n",
       "      <td>Tuesday</td>\n",
       "      <td>14.000000</td>\n",
       "      <td>19.0</td>\n",
       "      <td>0</td>\n",
       "      <td>5.0</td>\n",
       "      <td>Ogilvy on Advertising David Ogilvy Social Science</td>\n",
       "      <td>belmont</td>\n",
       "      <td>Child</td>\n",
       "    </tr>\n",
       "  </tbody>\n",
       "</table>\n",
       "</div>"
      ],
      "text/plain": [
       "        book_id             book_title  book_authors book_publishedDate  \\\n",
       "0  hVFwAAAAQBAJ  Ogilvy on Advertising  David Ogilvy         2013-09-11   \n",
       "1  hVFwAAAAQBAJ  Ogilvy on Advertising  David Ogilvy         2013-09-11   \n",
       "\n",
       "  book_categories  book_price  book_pages checkout_date_checkout  \\\n",
       "0  Social Science        7299       320.0             2018-01-17   \n",
       "1  Social Science        7299       320.0             2018-04-05   \n",
       "\n",
       "  checkout_date_returned                       customer_id   customer_name  \\\n",
       "0             2018-01-31  466d78dd0a6e1beffc1ac2eb19fc17b4     Duncan Cruz   \n",
       "1             2018-04-24  93500f374fb5f330d47e89b30af648f5  Robert Moretti   \n",
       "\n",
       "  customer_street_address customer_city customer_state  customer_zipcode  \\\n",
       "0     2931 SE Harrison St      portland         oregon          972140.0   \n",
       "1         230 SW Woods st      portland         oregon          972010.0   \n",
       "\n",
       "  customer_birth_date customer_gender customer_education customer_occupation  \\\n",
       "0          1816-05-24            male        high school               sales   \n",
       "1          2004-03-29            male            college     admin & support   \n",
       "\n",
       "            library_id                        library_name  \\\n",
       "0  226-222@5xc-jxj-7yv    multnomah county library belmont   \n",
       "1  226-222@5xc-jxj-7yv    multnomah county library belmont   \n",
       "\n",
       "        library_street_address library_city library_region  \\\n",
       "0  1038 SE CESAR E CHAVEZ blvd     portland             or   \n",
       "1  1038 SE CESAR E CHAVEZ blvd     portland             or   \n",
       "\n",
       "   library_postal_code  checkout_date_checkout_year  \\\n",
       "0              97214.0                       2018.0   \n",
       "1              97214.0                       2018.0   \n",
       "\n",
       "  checkout_date_checkout_month checkout_date_checkout_day  \\\n",
       "0                      January                  Wednesday   \n",
       "1                        April                   Thursday   \n",
       "\n",
       "   checkout_date_returned_year checkout_date_returned_month  \\\n",
       "0                       2018.0                      January   \n",
       "1                       2018.0                        April   \n",
       "\n",
       "  checkout_date_returned_day  customer_age  period  target  book_age  \\\n",
       "0                  Wednesday     48.670572    14.0       0       4.0   \n",
       "1                    Tuesday     14.000000    19.0       0       5.0   \n",
       "\n",
       "                                            all_text library_location  \\\n",
       "0  Ogilvy on Advertising David Ogilvy Social Science          belmont   \n",
       "1  Ogilvy on Advertising David Ogilvy Social Science          belmont   \n",
       "\n",
       "  binned_customer_age  \n",
       "0             Elderly  \n",
       "1               Child  "
      ]
     },
     "execution_count": 79,
     "metadata": {},
     "output_type": "execute_result"
    }
   ],
   "source": [
    "wr6.head(2)"
   ]
  },
  {
   "cell_type": "code",
   "execution_count": 80,
   "metadata": {},
   "outputs": [
    {
     "data": {
      "text/plain": [
       "(1451, 38)"
      ]
     },
     "execution_count": 80,
     "metadata": {},
     "output_type": "execute_result"
    }
   ],
   "source": [
    "wr6.shape"
   ]
  },
  {
   "cell_type": "code",
   "execution_count": 81,
   "metadata": {},
   "outputs": [],
   "source": [
    "cols_to_drop = ['book_id','book_title','book_authors',\\\n",
    "                'book_publishedDate', 'book_categories','checkout_date_checkout',\\\n",
    "               'checkout_date_returned', 'customer_name', 'customer_street_address',\\\n",
    "               'customer_zipcode', 'customer_birth_date', 'library_id',\\\n",
    "               'library_name', 'library_street_address', 'library_postal_code']"
   ]
  },
  {
   "cell_type": "markdown",
   "metadata": {},
   "source": [
    "Reason for dropping some columns:\n",
    "- They are already featurized into other columns (i.e all date columns)\n",
    "- They are informative at a high level (i.e addresses and names)\n",
    "- Text fields such as book title will be converted into embeddings"
   ]
  },
  {
   "cell_type": "code",
   "execution_count": 83,
   "metadata": {},
   "outputs": [],
   "source": [
    "from wrangler.data_preprocessing import drop_cols\n",
    "wr7 = drop_cols(wr6, columns=cols_to_drop)"
   ]
  },
  {
   "cell_type": "code",
   "execution_count": 84,
   "metadata": {},
   "outputs": [
    {
     "data": {
      "text/html": [
       "<div>\n",
       "<style scoped>\n",
       "    .dataframe tbody tr th:only-of-type {\n",
       "        vertical-align: middle;\n",
       "    }\n",
       "\n",
       "    .dataframe tbody tr th {\n",
       "        vertical-align: top;\n",
       "    }\n",
       "\n",
       "    .dataframe thead th {\n",
       "        text-align: right;\n",
       "    }\n",
       "</style>\n",
       "<table border=\"1\" class=\"dataframe\">\n",
       "  <thead>\n",
       "    <tr style=\"text-align: right;\">\n",
       "      <th></th>\n",
       "      <th>book_price</th>\n",
       "      <th>book_pages</th>\n",
       "      <th>customer_id</th>\n",
       "      <th>customer_city</th>\n",
       "      <th>customer_state</th>\n",
       "      <th>customer_gender</th>\n",
       "      <th>customer_education</th>\n",
       "      <th>customer_occupation</th>\n",
       "      <th>library_city</th>\n",
       "      <th>library_region</th>\n",
       "      <th>checkout_date_checkout_year</th>\n",
       "      <th>checkout_date_checkout_month</th>\n",
       "      <th>checkout_date_checkout_day</th>\n",
       "      <th>checkout_date_returned_year</th>\n",
       "      <th>checkout_date_returned_month</th>\n",
       "      <th>checkout_date_returned_day</th>\n",
       "      <th>customer_age</th>\n",
       "      <th>period</th>\n",
       "      <th>target</th>\n",
       "      <th>book_age</th>\n",
       "      <th>all_text</th>\n",
       "      <th>library_location</th>\n",
       "      <th>binned_customer_age</th>\n",
       "    </tr>\n",
       "  </thead>\n",
       "  <tbody>\n",
       "    <tr>\n",
       "      <th>0</th>\n",
       "      <td>7299</td>\n",
       "      <td>320.0</td>\n",
       "      <td>466d78dd0a6e1beffc1ac2eb19fc17b4</td>\n",
       "      <td>portland</td>\n",
       "      <td>oregon</td>\n",
       "      <td>male</td>\n",
       "      <td>high school</td>\n",
       "      <td>sales</td>\n",
       "      <td>portland</td>\n",
       "      <td>or</td>\n",
       "      <td>2018.0</td>\n",
       "      <td>January</td>\n",
       "      <td>Wednesday</td>\n",
       "      <td>2018.0</td>\n",
       "      <td>January</td>\n",
       "      <td>Wednesday</td>\n",
       "      <td>48.670572</td>\n",
       "      <td>14.0</td>\n",
       "      <td>0</td>\n",
       "      <td>4.0</td>\n",
       "      <td>Ogilvy on Advertising David Ogilvy Social Science</td>\n",
       "      <td>belmont</td>\n",
       "      <td>Elderly</td>\n",
       "    </tr>\n",
       "    <tr>\n",
       "      <th>1</th>\n",
       "      <td>7299</td>\n",
       "      <td>320.0</td>\n",
       "      <td>93500f374fb5f330d47e89b30af648f5</td>\n",
       "      <td>portland</td>\n",
       "      <td>oregon</td>\n",
       "      <td>male</td>\n",
       "      <td>college</td>\n",
       "      <td>admin &amp; support</td>\n",
       "      <td>portland</td>\n",
       "      <td>or</td>\n",
       "      <td>2018.0</td>\n",
       "      <td>April</td>\n",
       "      <td>Thursday</td>\n",
       "      <td>2018.0</td>\n",
       "      <td>April</td>\n",
       "      <td>Tuesday</td>\n",
       "      <td>14.000000</td>\n",
       "      <td>19.0</td>\n",
       "      <td>0</td>\n",
       "      <td>5.0</td>\n",
       "      <td>Ogilvy on Advertising David Ogilvy Social Science</td>\n",
       "      <td>belmont</td>\n",
       "      <td>Child</td>\n",
       "    </tr>\n",
       "  </tbody>\n",
       "</table>\n",
       "</div>"
      ],
      "text/plain": [
       "   book_price  book_pages                       customer_id customer_city  \\\n",
       "0        7299       320.0  466d78dd0a6e1beffc1ac2eb19fc17b4      portland   \n",
       "1        7299       320.0  93500f374fb5f330d47e89b30af648f5      portland   \n",
       "\n",
       "  customer_state customer_gender customer_education customer_occupation  \\\n",
       "0         oregon            male        high school               sales   \n",
       "1         oregon            male            college     admin & support   \n",
       "\n",
       "  library_city library_region  checkout_date_checkout_year  \\\n",
       "0     portland             or                       2018.0   \n",
       "1     portland             or                       2018.0   \n",
       "\n",
       "  checkout_date_checkout_month checkout_date_checkout_day  \\\n",
       "0                      January                  Wednesday   \n",
       "1                        April                   Thursday   \n",
       "\n",
       "   checkout_date_returned_year checkout_date_returned_month  \\\n",
       "0                       2018.0                      January   \n",
       "1                       2018.0                        April   \n",
       "\n",
       "  checkout_date_returned_day  customer_age  period  target  book_age  \\\n",
       "0                  Wednesday     48.670572    14.0       0       4.0   \n",
       "1                    Tuesday     14.000000    19.0       0       5.0   \n",
       "\n",
       "                                            all_text library_location  \\\n",
       "0  Ogilvy on Advertising David Ogilvy Social Science          belmont   \n",
       "1  Ogilvy on Advertising David Ogilvy Social Science          belmont   \n",
       "\n",
       "  binned_customer_age  \n",
       "0             Elderly  \n",
       "1               Child  "
      ]
     },
     "execution_count": 84,
     "metadata": {},
     "output_type": "execute_result"
    }
   ],
   "source": [
    "wr7.head(2)"
   ]
  },
  {
   "cell_type": "code",
   "execution_count": 85,
   "metadata": {},
   "outputs": [
    {
     "data": {
      "text/plain": [
       "(1451, 23)"
      ]
     },
     "execution_count": 85,
     "metadata": {},
     "output_type": "execute_result"
    }
   ],
   "source": [
    "wr7.shape"
   ]
  },
  {
   "cell_type": "markdown",
   "metadata": {},
   "source": [
    "### 4.2- Featurize the text column \"all_text\" to generate word embeddings\n",
    "Note: this is at a high level way of generating text embeddings, future improvements would be:\n",
    "- Include parts of speech tagging in the preprocess_document_for_fine_tuning function\n",
    "- Apply Named Entity recognition to identify names (i.e names of Authors in this case)"
   ]
  },
  {
   "cell_type": "code",
   "execution_count": 86,
   "metadata": {},
   "outputs": [],
   "source": [
    "from wrangler.text_preprocess import merge_emb\n",
    "wr8 = merge_emb(wr7)"
   ]
  },
  {
   "cell_type": "code",
   "execution_count": 87,
   "metadata": {},
   "outputs": [
    {
     "data": {
      "text/html": [
       "<div>\n",
       "<style scoped>\n",
       "    .dataframe tbody tr th:only-of-type {\n",
       "        vertical-align: middle;\n",
       "    }\n",
       "\n",
       "    .dataframe tbody tr th {\n",
       "        vertical-align: top;\n",
       "    }\n",
       "\n",
       "    .dataframe thead th {\n",
       "        text-align: right;\n",
       "    }\n",
       "</style>\n",
       "<table border=\"1\" class=\"dataframe\">\n",
       "  <thead>\n",
       "    <tr style=\"text-align: right;\">\n",
       "      <th></th>\n",
       "      <th>book_price</th>\n",
       "      <th>book_pages</th>\n",
       "      <th>customer_id</th>\n",
       "      <th>customer_city</th>\n",
       "      <th>customer_state</th>\n",
       "      <th>customer_gender</th>\n",
       "      <th>customer_education</th>\n",
       "      <th>customer_occupation</th>\n",
       "      <th>library_city</th>\n",
       "      <th>library_region</th>\n",
       "      <th>checkout_date_checkout_year</th>\n",
       "      <th>checkout_date_checkout_month</th>\n",
       "      <th>checkout_date_checkout_day</th>\n",
       "      <th>checkout_date_returned_year</th>\n",
       "      <th>checkout_date_returned_month</th>\n",
       "      <th>checkout_date_returned_day</th>\n",
       "      <th>customer_age</th>\n",
       "      <th>period</th>\n",
       "      <th>target</th>\n",
       "      <th>book_age</th>\n",
       "      <th>library_location</th>\n",
       "      <th>binned_customer_age</th>\n",
       "      <th>emb_0</th>\n",
       "      <th>emb_1</th>\n",
       "      <th>emb_2</th>\n",
       "      <th>emb_3</th>\n",
       "      <th>emb_4</th>\n",
       "      <th>emb_5</th>\n",
       "      <th>emb_6</th>\n",
       "      <th>emb_7</th>\n",
       "      <th>emb_8</th>\n",
       "      <th>emb_9</th>\n",
       "      <th>emb_10</th>\n",
       "      <th>emb_11</th>\n",
       "      <th>emb_12</th>\n",
       "      <th>emb_13</th>\n",
       "      <th>emb_14</th>\n",
       "      <th>emb_15</th>\n",
       "      <th>emb_16</th>\n",
       "      <th>emb_17</th>\n",
       "      <th>emb_18</th>\n",
       "      <th>emb_19</th>\n",
       "      <th>emb_20</th>\n",
       "      <th>emb_21</th>\n",
       "      <th>emb_22</th>\n",
       "      <th>emb_23</th>\n",
       "      <th>emb_24</th>\n",
       "      <th>emb_25</th>\n",
       "      <th>emb_26</th>\n",
       "      <th>emb_27</th>\n",
       "      <th>emb_28</th>\n",
       "      <th>emb_29</th>\n",
       "      <th>emb_30</th>\n",
       "      <th>emb_31</th>\n",
       "      <th>emb_32</th>\n",
       "      <th>emb_33</th>\n",
       "      <th>emb_34</th>\n",
       "      <th>emb_35</th>\n",
       "      <th>emb_36</th>\n",
       "      <th>emb_37</th>\n",
       "      <th>emb_38</th>\n",
       "      <th>emb_39</th>\n",
       "      <th>emb_40</th>\n",
       "      <th>emb_41</th>\n",
       "      <th>emb_42</th>\n",
       "      <th>emb_43</th>\n",
       "      <th>emb_44</th>\n",
       "      <th>emb_45</th>\n",
       "      <th>emb_46</th>\n",
       "      <th>emb_47</th>\n",
       "      <th>emb_48</th>\n",
       "      <th>emb_49</th>\n",
       "      <th>emb_50</th>\n",
       "      <th>emb_51</th>\n",
       "      <th>emb_52</th>\n",
       "      <th>emb_53</th>\n",
       "      <th>emb_54</th>\n",
       "      <th>emb_55</th>\n",
       "      <th>emb_56</th>\n",
       "      <th>emb_57</th>\n",
       "      <th>emb_58</th>\n",
       "      <th>emb_59</th>\n",
       "      <th>emb_60</th>\n",
       "      <th>emb_61</th>\n",
       "      <th>emb_62</th>\n",
       "      <th>emb_63</th>\n",
       "      <th>emb_64</th>\n",
       "      <th>emb_65</th>\n",
       "      <th>emb_66</th>\n",
       "      <th>emb_67</th>\n",
       "      <th>emb_68</th>\n",
       "      <th>emb_69</th>\n",
       "      <th>emb_70</th>\n",
       "      <th>emb_71</th>\n",
       "      <th>emb_72</th>\n",
       "      <th>emb_73</th>\n",
       "      <th>emb_74</th>\n",
       "      <th>emb_75</th>\n",
       "      <th>emb_76</th>\n",
       "      <th>emb_77</th>\n",
       "      <th>emb_78</th>\n",
       "      <th>emb_79</th>\n",
       "      <th>emb_80</th>\n",
       "      <th>emb_81</th>\n",
       "      <th>emb_82</th>\n",
       "      <th>emb_83</th>\n",
       "      <th>emb_84</th>\n",
       "      <th>emb_85</th>\n",
       "      <th>emb_86</th>\n",
       "      <th>emb_87</th>\n",
       "      <th>emb_88</th>\n",
       "      <th>emb_89</th>\n",
       "      <th>emb_90</th>\n",
       "      <th>emb_91</th>\n",
       "      <th>emb_92</th>\n",
       "      <th>emb_93</th>\n",
       "      <th>emb_94</th>\n",
       "      <th>emb_95</th>\n",
       "      <th>emb_96</th>\n",
       "      <th>emb_97</th>\n",
       "      <th>emb_98</th>\n",
       "      <th>emb_99</th>\n",
       "    </tr>\n",
       "  </thead>\n",
       "  <tbody>\n",
       "    <tr>\n",
       "      <th>0</th>\n",
       "      <td>7299</td>\n",
       "      <td>320.0</td>\n",
       "      <td>466d78dd0a6e1beffc1ac2eb19fc17b4</td>\n",
       "      <td>portland</td>\n",
       "      <td>oregon</td>\n",
       "      <td>male</td>\n",
       "      <td>high school</td>\n",
       "      <td>sales</td>\n",
       "      <td>portland</td>\n",
       "      <td>or</td>\n",
       "      <td>2018.0</td>\n",
       "      <td>January</td>\n",
       "      <td>Wednesday</td>\n",
       "      <td>2018.0</td>\n",
       "      <td>January</td>\n",
       "      <td>Wednesday</td>\n",
       "      <td>48.670572</td>\n",
       "      <td>14.0</td>\n",
       "      <td>0</td>\n",
       "      <td>4.0</td>\n",
       "      <td>belmont</td>\n",
       "      <td>Elderly</td>\n",
       "      <td>-0.300482</td>\n",
       "      <td>-0.170635</td>\n",
       "      <td>-0.19725</td>\n",
       "      <td>-0.452872</td>\n",
       "      <td>0.454073</td>\n",
       "      <td>-0.22148</td>\n",
       "      <td>0.112343</td>\n",
       "      <td>-0.13979</td>\n",
       "      <td>-0.338362</td>\n",
       "      <td>0.09015</td>\n",
       "      <td>0.188847</td>\n",
       "      <td>-0.377322</td>\n",
       "      <td>0.000549</td>\n",
       "      <td>0.00665</td>\n",
       "      <td>0.094394</td>\n",
       "      <td>0.012761</td>\n",
       "      <td>0.150437</td>\n",
       "      <td>0.357539</td>\n",
       "      <td>-0.494483</td>\n",
       "      <td>0.297592</td>\n",
       "      <td>-0.065097</td>\n",
       "      <td>0.224311</td>\n",
       "      <td>0.441547</td>\n",
       "      <td>0.017875</td>\n",
       "      <td>0.40421</td>\n",
       "      <td>0.145288</td>\n",
       "      <td>0.508442</td>\n",
       "      <td>-0.403657</td>\n",
       "      <td>-0.306377</td>\n",
       "      <td>-0.390659</td>\n",
       "      <td>-0.222595</td>\n",
       "      <td>0.898632</td>\n",
       "      <td>-0.254782</td>\n",
       "      <td>-0.121327</td>\n",
       "      <td>-0.25246</td>\n",
       "      <td>0.140186</td>\n",
       "      <td>-0.884152</td>\n",
       "      <td>0.465702</td>\n",
       "      <td>-0.164912</td>\n",
       "      <td>0.50993</td>\n",
       "      <td>-0.184655</td>\n",
       "      <td>-0.022334</td>\n",
       "      <td>-0.616507</td>\n",
       "      <td>0.29501</td>\n",
       "      <td>-0.29565</td>\n",
       "      <td>-0.307975</td>\n",
       "      <td>-0.166617</td>\n",
       "      <td>0.203538</td>\n",
       "      <td>-0.255158</td>\n",
       "      <td>-0.514473</td>\n",
       "      <td>0.288347</td>\n",
       "      <td>-0.053268</td>\n",
       "      <td>-0.166447</td>\n",
       "      <td>0.287892</td>\n",
       "      <td>0.210304</td>\n",
       "      <td>-1.780063</td>\n",
       "      <td>0.058683</td>\n",
       "      <td>-0.00502</td>\n",
       "      <td>0.550613</td>\n",
       "      <td>0.296298</td>\n",
       "      <td>0.174563</td>\n",
       "      <td>-0.041547</td>\n",
       "      <td>-0.026002</td>\n",
       "      <td>0.099116</td>\n",
       "      <td>0.416482</td>\n",
       "      <td>0.042368</td>\n",
       "      <td>0.150624</td>\n",
       "      <td>0.292442</td>\n",
       "      <td>0.80956</td>\n",
       "      <td>0.107603</td>\n",
       "      <td>0.117608</td>\n",
       "      <td>0.366547</td>\n",
       "      <td>-0.351301</td>\n",
       "      <td>-0.395847</td>\n",
       "      <td>-0.274386</td>\n",
       "      <td>-0.200643</td>\n",
       "      <td>0.117443</td>\n",
       "      <td>-0.11232</td>\n",
       "      <td>-0.84845</td>\n",
       "      <td>-0.15145</td>\n",
       "      <td>0.275043</td>\n",
       "      <td>0.088183</td>\n",
       "      <td>0.154574</td>\n",
       "      <td>0.372817</td>\n",
       "      <td>-0.698767</td>\n",
       "      <td>-0.224033</td>\n",
       "      <td>-0.558094</td>\n",
       "      <td>-0.060824</td>\n",
       "      <td>0.097047</td>\n",
       "      <td>-0.573075</td>\n",
       "      <td>0.182008</td>\n",
       "      <td>-0.407173</td>\n",
       "      <td>0.446493</td>\n",
       "      <td>-0.178622</td>\n",
       "      <td>-0.043481</td>\n",
       "      <td>0.11859</td>\n",
       "      <td>0.099787</td>\n",
       "      <td>-0.473733</td>\n",
       "      <td>0.224313</td>\n",
       "      <td>0.331072</td>\n",
       "    </tr>\n",
       "    <tr>\n",
       "      <th>1</th>\n",
       "      <td>7299</td>\n",
       "      <td>320.0</td>\n",
       "      <td>93500f374fb5f330d47e89b30af648f5</td>\n",
       "      <td>portland</td>\n",
       "      <td>oregon</td>\n",
       "      <td>male</td>\n",
       "      <td>college</td>\n",
       "      <td>admin &amp; support</td>\n",
       "      <td>portland</td>\n",
       "      <td>or</td>\n",
       "      <td>2018.0</td>\n",
       "      <td>April</td>\n",
       "      <td>Thursday</td>\n",
       "      <td>2018.0</td>\n",
       "      <td>April</td>\n",
       "      <td>Tuesday</td>\n",
       "      <td>14.000000</td>\n",
       "      <td>19.0</td>\n",
       "      <td>0</td>\n",
       "      <td>5.0</td>\n",
       "      <td>belmont</td>\n",
       "      <td>Child</td>\n",
       "      <td>-0.300482</td>\n",
       "      <td>-0.170635</td>\n",
       "      <td>-0.19725</td>\n",
       "      <td>-0.452872</td>\n",
       "      <td>0.454073</td>\n",
       "      <td>-0.22148</td>\n",
       "      <td>0.112343</td>\n",
       "      <td>-0.13979</td>\n",
       "      <td>-0.338362</td>\n",
       "      <td>0.09015</td>\n",
       "      <td>0.188847</td>\n",
       "      <td>-0.377322</td>\n",
       "      <td>0.000549</td>\n",
       "      <td>0.00665</td>\n",
       "      <td>0.094394</td>\n",
       "      <td>0.012761</td>\n",
       "      <td>0.150437</td>\n",
       "      <td>0.357539</td>\n",
       "      <td>-0.494483</td>\n",
       "      <td>0.297592</td>\n",
       "      <td>-0.065097</td>\n",
       "      <td>0.224311</td>\n",
       "      <td>0.441547</td>\n",
       "      <td>0.017875</td>\n",
       "      <td>0.40421</td>\n",
       "      <td>0.145288</td>\n",
       "      <td>0.508442</td>\n",
       "      <td>-0.403657</td>\n",
       "      <td>-0.306377</td>\n",
       "      <td>-0.390659</td>\n",
       "      <td>-0.222595</td>\n",
       "      <td>0.898632</td>\n",
       "      <td>-0.254782</td>\n",
       "      <td>-0.121327</td>\n",
       "      <td>-0.25246</td>\n",
       "      <td>0.140186</td>\n",
       "      <td>-0.884152</td>\n",
       "      <td>0.465702</td>\n",
       "      <td>-0.164912</td>\n",
       "      <td>0.50993</td>\n",
       "      <td>-0.184655</td>\n",
       "      <td>-0.022334</td>\n",
       "      <td>-0.616507</td>\n",
       "      <td>0.29501</td>\n",
       "      <td>-0.29565</td>\n",
       "      <td>-0.307975</td>\n",
       "      <td>-0.166617</td>\n",
       "      <td>0.203538</td>\n",
       "      <td>-0.255158</td>\n",
       "      <td>-0.514473</td>\n",
       "      <td>0.288347</td>\n",
       "      <td>-0.053268</td>\n",
       "      <td>-0.166447</td>\n",
       "      <td>0.287892</td>\n",
       "      <td>0.210304</td>\n",
       "      <td>-1.780063</td>\n",
       "      <td>0.058683</td>\n",
       "      <td>-0.00502</td>\n",
       "      <td>0.550613</td>\n",
       "      <td>0.296298</td>\n",
       "      <td>0.174563</td>\n",
       "      <td>-0.041547</td>\n",
       "      <td>-0.026002</td>\n",
       "      <td>0.099116</td>\n",
       "      <td>0.416482</td>\n",
       "      <td>0.042368</td>\n",
       "      <td>0.150624</td>\n",
       "      <td>0.292442</td>\n",
       "      <td>0.80956</td>\n",
       "      <td>0.107603</td>\n",
       "      <td>0.117608</td>\n",
       "      <td>0.366547</td>\n",
       "      <td>-0.351301</td>\n",
       "      <td>-0.395847</td>\n",
       "      <td>-0.274386</td>\n",
       "      <td>-0.200643</td>\n",
       "      <td>0.117443</td>\n",
       "      <td>-0.11232</td>\n",
       "      <td>-0.84845</td>\n",
       "      <td>-0.15145</td>\n",
       "      <td>0.275043</td>\n",
       "      <td>0.088183</td>\n",
       "      <td>0.154574</td>\n",
       "      <td>0.372817</td>\n",
       "      <td>-0.698767</td>\n",
       "      <td>-0.224033</td>\n",
       "      <td>-0.558094</td>\n",
       "      <td>-0.060824</td>\n",
       "      <td>0.097047</td>\n",
       "      <td>-0.573075</td>\n",
       "      <td>0.182008</td>\n",
       "      <td>-0.407173</td>\n",
       "      <td>0.446493</td>\n",
       "      <td>-0.178622</td>\n",
       "      <td>-0.043481</td>\n",
       "      <td>0.11859</td>\n",
       "      <td>0.099787</td>\n",
       "      <td>-0.473733</td>\n",
       "      <td>0.224313</td>\n",
       "      <td>0.331072</td>\n",
       "    </tr>\n",
       "  </tbody>\n",
       "</table>\n",
       "</div>"
      ],
      "text/plain": [
       "   book_price  book_pages                       customer_id customer_city  \\\n",
       "0        7299       320.0  466d78dd0a6e1beffc1ac2eb19fc17b4      portland   \n",
       "1        7299       320.0  93500f374fb5f330d47e89b30af648f5      portland   \n",
       "\n",
       "  customer_state customer_gender customer_education customer_occupation  \\\n",
       "0         oregon            male        high school               sales   \n",
       "1         oregon            male            college     admin & support   \n",
       "\n",
       "  library_city library_region  checkout_date_checkout_year  \\\n",
       "0     portland             or                       2018.0   \n",
       "1     portland             or                       2018.0   \n",
       "\n",
       "  checkout_date_checkout_month checkout_date_checkout_day  \\\n",
       "0                      January                  Wednesday   \n",
       "1                        April                   Thursday   \n",
       "\n",
       "   checkout_date_returned_year checkout_date_returned_month  \\\n",
       "0                       2018.0                      January   \n",
       "1                       2018.0                        April   \n",
       "\n",
       "  checkout_date_returned_day  customer_age  period  target  book_age  \\\n",
       "0                  Wednesday     48.670572    14.0       0       4.0   \n",
       "1                    Tuesday     14.000000    19.0       0       5.0   \n",
       "\n",
       "  library_location binned_customer_age     emb_0     emb_1    emb_2     emb_3  \\\n",
       "0          belmont             Elderly -0.300482 -0.170635 -0.19725 -0.452872   \n",
       "1          belmont               Child -0.300482 -0.170635 -0.19725 -0.452872   \n",
       "\n",
       "      emb_4    emb_5     emb_6    emb_7     emb_8    emb_9    emb_10  \\\n",
       "0  0.454073 -0.22148  0.112343 -0.13979 -0.338362  0.09015  0.188847   \n",
       "1  0.454073 -0.22148  0.112343 -0.13979 -0.338362  0.09015  0.188847   \n",
       "\n",
       "     emb_11    emb_12   emb_13    emb_14    emb_15    emb_16    emb_17  \\\n",
       "0 -0.377322  0.000549  0.00665  0.094394  0.012761  0.150437  0.357539   \n",
       "1 -0.377322  0.000549  0.00665  0.094394  0.012761  0.150437  0.357539   \n",
       "\n",
       "     emb_18    emb_19    emb_20    emb_21    emb_22    emb_23   emb_24  \\\n",
       "0 -0.494483  0.297592 -0.065097  0.224311  0.441547  0.017875  0.40421   \n",
       "1 -0.494483  0.297592 -0.065097  0.224311  0.441547  0.017875  0.40421   \n",
       "\n",
       "     emb_25    emb_26    emb_27    emb_28    emb_29    emb_30    emb_31  \\\n",
       "0  0.145288  0.508442 -0.403657 -0.306377 -0.390659 -0.222595  0.898632   \n",
       "1  0.145288  0.508442 -0.403657 -0.306377 -0.390659 -0.222595  0.898632   \n",
       "\n",
       "     emb_32    emb_33   emb_34    emb_35    emb_36    emb_37    emb_38  \\\n",
       "0 -0.254782 -0.121327 -0.25246  0.140186 -0.884152  0.465702 -0.164912   \n",
       "1 -0.254782 -0.121327 -0.25246  0.140186 -0.884152  0.465702 -0.164912   \n",
       "\n",
       "    emb_39    emb_40    emb_41    emb_42   emb_43   emb_44    emb_45  \\\n",
       "0  0.50993 -0.184655 -0.022334 -0.616507  0.29501 -0.29565 -0.307975   \n",
       "1  0.50993 -0.184655 -0.022334 -0.616507  0.29501 -0.29565 -0.307975   \n",
       "\n",
       "     emb_46    emb_47    emb_48    emb_49    emb_50    emb_51    emb_52  \\\n",
       "0 -0.166617  0.203538 -0.255158 -0.514473  0.288347 -0.053268 -0.166447   \n",
       "1 -0.166617  0.203538 -0.255158 -0.514473  0.288347 -0.053268 -0.166447   \n",
       "\n",
       "     emb_53    emb_54    emb_55    emb_56   emb_57    emb_58    emb_59  \\\n",
       "0  0.287892  0.210304 -1.780063  0.058683 -0.00502  0.550613  0.296298   \n",
       "1  0.287892  0.210304 -1.780063  0.058683 -0.00502  0.550613  0.296298   \n",
       "\n",
       "     emb_60    emb_61    emb_62    emb_63    emb_64    emb_65    emb_66  \\\n",
       "0  0.174563 -0.041547 -0.026002  0.099116  0.416482  0.042368  0.150624   \n",
       "1  0.174563 -0.041547 -0.026002  0.099116  0.416482  0.042368  0.150624   \n",
       "\n",
       "     emb_67   emb_68    emb_69    emb_70    emb_71    emb_72    emb_73  \\\n",
       "0  0.292442  0.80956  0.107603  0.117608  0.366547 -0.351301 -0.395847   \n",
       "1  0.292442  0.80956  0.107603  0.117608  0.366547 -0.351301 -0.395847   \n",
       "\n",
       "     emb_74    emb_75    emb_76   emb_77   emb_78   emb_79    emb_80  \\\n",
       "0 -0.274386 -0.200643  0.117443 -0.11232 -0.84845 -0.15145  0.275043   \n",
       "1 -0.274386 -0.200643  0.117443 -0.11232 -0.84845 -0.15145  0.275043   \n",
       "\n",
       "     emb_81    emb_82    emb_83    emb_84    emb_85    emb_86    emb_87  \\\n",
       "0  0.088183  0.154574  0.372817 -0.698767 -0.224033 -0.558094 -0.060824   \n",
       "1  0.088183  0.154574  0.372817 -0.698767 -0.224033 -0.558094 -0.060824   \n",
       "\n",
       "     emb_88    emb_89    emb_90    emb_91    emb_92    emb_93    emb_94  \\\n",
       "0  0.097047 -0.573075  0.182008 -0.407173  0.446493 -0.178622 -0.043481   \n",
       "1  0.097047 -0.573075  0.182008 -0.407173  0.446493 -0.178622 -0.043481   \n",
       "\n",
       "    emb_95    emb_96    emb_97    emb_98    emb_99  \n",
       "0  0.11859  0.099787 -0.473733  0.224313  0.331072  \n",
       "1  0.11859  0.099787 -0.473733  0.224313  0.331072  "
      ]
     },
     "execution_count": 87,
     "metadata": {},
     "output_type": "execute_result"
    }
   ],
   "source": [
    "wr8.head(2)"
   ]
  },
  {
   "cell_type": "code",
   "execution_count": 88,
   "metadata": {},
   "outputs": [
    {
     "data": {
      "text/plain": [
       "(1379, 122)"
      ]
     },
     "execution_count": 88,
     "metadata": {},
     "output_type": "execute_result"
    }
   ],
   "source": [
    "wr8.shape"
   ]
  },
  {
   "cell_type": "markdown",
   "metadata": {},
   "source": [
    "### 4.3- Column Transformer Pipeline Object:\n",
    "Steps Include:\n",
    "- Identify numerical and categorical attributes\n",
    "- For numerical attributes, fill missing values with mean and scale using standard scaler\n",
    "- For categorical attributes, perform one hot encoding (OHE) and replace missing values with most_frequent\n",
    "\n",
    "This helps for reproducibility especially if going to prod; to avoid any form of inconsistency\n",
    "\n",
    "- The full pipeline object can be used to transform any data (after going through the data_preprocessing script)"
   ]
  },
  {
   "cell_type": "code",
   "execution_count": 89,
   "metadata": {},
   "outputs": [],
   "source": [
    "from wrangler.pipeline import build_pipeline"
   ]
  },
  {
   "cell_type": "code",
   "execution_count": 91,
   "metadata": {},
   "outputs": [],
   "source": [
    "processed = build_pipeline(wr8)"
   ]
  },
  {
   "cell_type": "code",
   "execution_count": 92,
   "metadata": {},
   "outputs": [
    {
     "name": "stdout",
     "output_type": "stream",
     "text": [
      "(1103, 191)\n"
     ]
    }
   ],
   "source": [
    "X, y, X_train, X_test, y_train, y_test, full_pipeline = processed.build_object()"
   ]
  },
  {
   "cell_type": "markdown",
   "metadata": {},
   "source": [
    "## Modeling Approach\n",
    "- I typically throw my data into a range of algorithms and I look out for the general metrics; what model is performing well, what model needs tuning and what model is overfitting\n",
    "- Based on step 1 above, I start to iterate\n",
    "- My standout metric for binary classification problems is the roc_auc\n",
    "- I begin to tune, and monitor the performance of alogrithm based on several metrics"
   ]
  },
  {
   "cell_type": "code",
   "execution_count": 95,
   "metadata": {},
   "outputs": [],
   "source": [
    "from wrangler.data_preprocessing import print_divider"
   ]
  },
  {
   "cell_type": "code",
   "execution_count": 97,
   "metadata": {},
   "outputs": [
    {
     "name": "stdout",
     "output_type": "stream",
     "text": [
      "LogisticRegression(solver='liblinear')\n",
      "Classifier_test_Score : 0.9420289855072463\n",
      "Classifier_recall_Score : 0.38461538461538464\n",
      "Classifier_f1_Score : 0.5555555555555556\n",
      "Classifier_precision_Score : 1.0\n",
      "[[250   0]\n",
      " [ 16  10]]\n",
      "\n",
      "------------------------- Algorithm and metrics -------------------------\n",
      "\n",
      "RandomForestClassifier(random_state=42)\n",
      "Classifier_test_Score : 0.9130434782608695\n",
      "Classifier_recall_Score : 0.07692307692307693\n",
      "Classifier_f1_Score : 0.14285714285714288\n",
      "Classifier_precision_Score : 1.0\n",
      "[[250   0]\n",
      " [ 24   2]]\n",
      "\n",
      "------------------------- Algorithm and metrics -------------------------\n",
      "\n",
      "GradientBoostingClassifier(random_state=42)\n",
      "Classifier_test_Score : 1.0\n",
      "Classifier_recall_Score : 1.0\n",
      "Classifier_f1_Score : 1.0\n",
      "Classifier_precision_Score : 1.0\n",
      "[[250   0]\n",
      " [  0  26]]\n",
      "\n",
      "------------------------- Algorithm and metrics -------------------------\n",
      "\n"
     ]
    }
   ],
   "source": [
    "def benchmark(x_train: np.array, y_train: np.array, x_test: np.array, y_test: np.array, classifiers: list):\n",
    "    \n",
    "    '''\n",
    "    Play around with different ML algorithms using default parameters and \n",
    "    begin to minotor performance based on metric\n",
    "    '''\n",
    "    for classifier in classifiers:\n",
    "        training = classifier.fit(x_train, y_train)\n",
    "        y_pred = classifier.predict(x_test)\n",
    "        score = 'Classifier_test_Score : {}'.format(classifier.score(x_test, y_test))\n",
    "        recall = 'Classifier_recall_Score : {}'.format(recall_score(y_test, y_pred))\n",
    "        f1 = 'Classifier_f1_Score : {}'.format(f1_score(y_test, y_pred))\n",
    "        precision = 'Classifier_precision_Score : {}'.format(precision_score(y_test, y_pred))\n",
    "        matrix_of_predictions = confusion_matrix(y_test, y_pred)\n",
    "        print(training)\n",
    "        print(score)\n",
    "        print(recall)\n",
    "        print(f1)\n",
    "        print(precision)\n",
    "        print(matrix_of_predictions)\n",
    "        print_divider(\"Algorithm and metrics\")\n",
    "\n",
    "    \n",
    "benchmark(X_train, y_train, X_test, y_test, classifiers = [lr, rfc, gbc])"
   ]
  },
  {
   "cell_type": "code",
   "execution_count": null,
   "metadata": {},
   "outputs": [],
   "source": []
  },
  {
   "cell_type": "markdown",
   "metadata": {},
   "source": [
    "From the above, here are my observations:\n",
    "- The logistic regression model needs to be tuned, especially as there's class imbalance. Use of the class_weight param will come in handy here\n",
    "- The random forest model didn't perform well. The accuracy is high due to the imabalanced target class, howeever, the precision, recall and f1 didn't meet the desired expectation\n",
    "- The Gradient Boosting Classifier is overfitting. We need to introduce a cross validation or regularization technique if we are to use this"
   ]
  },
  {
   "cell_type": "code",
   "execution_count": null,
   "metadata": {},
   "outputs": [],
   "source": [
    "# Test more algorithms"
   ]
  },
  {
   "cell_type": "code",
   "execution_count": 107,
   "metadata": {},
   "outputs": [],
   "source": [
    "from numpy import mean\n",
    "from numpy import std\n",
    "\n",
    "from sklearn.metrics import accuracy_score, log_loss\n",
    "from sklearn.neighbors import KNeighborsClassifier\n",
    "from sklearn.linear_model import LogisticRegression\n",
    "from sklearn.tree import DecisionTreeClassifier\n",
    "from sklearn.ensemble import RandomForestClassifier, AdaBoostClassifier, GradientBoostingClassifier\n",
    "from lightgbm import LGBMClassifier\n",
    "from sklearn.naive_bayes import GaussianNB\n",
    "from sklearn.metrics import f1_score, fbeta_score\n",
    "from sklearn.metrics import confusion_matrix, cohen_kappa_score\n",
    "from sklearn.metrics import accuracy_score, classification_report\n",
    "from sklearn.model_selection import RepeatedStratifiedKFold\n",
    "from sklearn.model_selection import cross_val_score\n",
    "from sklearn.datasets import make_classification\n",
    "from sklearn.model_selection import GridSearchCV"
   ]
  },
  {
   "cell_type": "code",
   "execution_count": 105,
   "metadata": {},
   "outputs": [],
   "source": [
    "from sklearn.metrics import (accuracy_score,\n",
    "                             precision_score,\n",
    "                             recall_score,\n",
    "                             f1_score,\n",
    "                             confusion_matrix,\n",
    "                             roc_curve,\n",
    "                             roc_auc_score,\n",
    "                             precision_recall_curve,\n",
    "                             roc_curve,\n",
    "                             average_precision_score)"
   ]
  },
  {
   "cell_type": "code",
   "execution_count": null,
   "metadata": {},
   "outputs": [],
   "source": [
    "classifiers = [\n",
    "               KNeighborsClassifier(3),\n",
    "               DecisionTreeClassifier(),\n",
    "               AdaBoostClassifier(),\n",
    "               GradientBoostingClassifier(),\n",
    "               LGBMClassifier()\n",
    "               ]"
   ]
  },
  {
   "cell_type": "code",
   "execution_count": null,
   "metadata": {},
   "outputs": [
    {
     "name": "stdout",
     "output_type": "stream",
     "text": [
      "\n",
      "------------------------- Classifier Name -------------------------\n",
      "\n",
      "KNeighborsClassifier(n_neighbors=3)\n",
      "\n",
      "------------------------- metrics -------------------------\n",
      "\n",
      "model score: 0.902\n",
      "confusion matrix\n",
      "[[249   1]\n",
      " [ 26   0]]\n",
      "classification report\n",
      "              precision    recall  f1-score   support\n",
      "\n",
      "           0       0.91      1.00      0.95       250\n",
      "           1       0.00      0.00      0.00        26\n",
      "\n",
      "    accuracy                           0.90       276\n",
      "   macro avg       0.45      0.50      0.47       276\n",
      "weighted avg       0.82      0.90      0.86       276\n",
      "\n",
      "f1 score : 0.000000\n",
      "ROC AUC 0.4980\n",
      "Average precision score 0.0942\n",
      "\n",
      "------------------------- Classifier Name -------------------------\n",
      "\n",
      "DecisionTreeClassifier()\n",
      "\n",
      "------------------------- metrics -------------------------\n",
      "\n",
      "model score: 1.000\n",
      "confusion matrix\n",
      "[[250   0]\n",
      " [  0  26]]\n",
      "classification report\n",
      "              precision    recall  f1-score   support\n",
      "\n",
      "           0       1.00      1.00      1.00       250\n",
      "           1       1.00      1.00      1.00        26\n",
      "\n",
      "    accuracy                           1.00       276\n",
      "   macro avg       1.00      1.00      1.00       276\n",
      "weighted avg       1.00      1.00      1.00       276\n",
      "\n",
      "f1 score : 1.000000\n",
      "ROC AUC 1.0000\n",
      "Average precision score 1.0000\n",
      "\n",
      "------------------------- Classifier Name -------------------------\n",
      "\n",
      "AdaBoostClassifier()\n",
      "\n",
      "------------------------- metrics -------------------------\n",
      "\n",
      "model score: 1.000\n",
      "confusion matrix\n",
      "[[250   0]\n",
      " [  0  26]]\n",
      "classification report\n",
      "              precision    recall  f1-score   support\n",
      "\n",
      "           0       1.00      1.00      1.00       250\n",
      "           1       1.00      1.00      1.00        26\n",
      "\n",
      "    accuracy                           1.00       276\n",
      "   macro avg       1.00      1.00      1.00       276\n",
      "weighted avg       1.00      1.00      1.00       276\n",
      "\n",
      "f1 score : 1.000000\n",
      "ROC AUC 1.0000\n",
      "Average precision score 1.0000\n"
     ]
    }
   ],
   "source": [
    "for classifier in classifiers:\n",
    "    classifier.fit(X_train, y_train)\n",
    "    y_pred = classifier.predict(X_test)\n",
    "    print_divider(\"Classifier Name\")\n",
    "    print(classifier)\n",
    "    print_divider(\"metrics\")\n",
    "    print(\"model score: %.3f\" % classifier.score(X_test, y_test))\n",
    "    print('confusion matrix')\n",
    "    print(confusion_matrix(y_test, y_pred))\n",
    "    print('classification report')\n",
    "    print(classification_report(y_test, y_pred))\n",
    "    print('f1 score : %f' % (fbeta_score(y_test, y_pred, beta=0.5)))\n",
    "    print(\"ROC AUC {:.4f}\".format(roc_auc_score(y_test, y_pred)))\n",
    "    print(\"Average precision score {:.4f}\".format(average_precision_score(y_test, y_pred)))"
   ]
  },
  {
   "cell_type": "code",
   "execution_count": null,
   "metadata": {},
   "outputs": [],
   "source": []
  },
  {
   "cell_type": "markdown",
   "metadata": {},
   "source": [
    "Apart from KNN, all tree alorithms were overfitting. "
   ]
  },
  {
   "cell_type": "code",
   "execution_count": 386,
   "metadata": {},
   "outputs": [
    {
     "name": "stdout",
     "output_type": "stream",
     "text": [
      "ROC_AUC Score is: 0.9995384615384615 and Average Precision score is: 0.9960212201591511\n",
      "{'accuracy': 0.9963768115942029, 'precision': 1.0, 'recall': 0.9615384615384616, 'f1': 0.9803921568627451, 'roc_auc': 0.9807692307692308, 'average_precision': 0.9651616499442587}\n"
     ]
    }
   ],
   "source": [
    "from lightgbm import LGBMClassifier\n",
    "from wrangler.util import get_scores\n",
    "\n",
    "\n",
    "# Define model\n",
    "clf = LGBMClassifier(scale_pos_weight=0.001)\n",
    "\n",
    "clf.fit(X_train, y_train)\n",
    "pred_prob = clf.predict_proba(X_test)\n",
    "\n",
    "auc_score = roc_auc_score(y_test, pred_prob[:,1])\n",
    "AP = average_precision_score(y_test, pred_prob[:,1])        \n",
    "print(f'ROC_AUC Score is: {auc_score} and Average Precision score is: {AP}')\n",
    "\n",
    "test_preds = clf.predict(X_test)\n",
    "\n",
    "print (get_scores(y_test, test_preds))"
   ]
  },
  {
   "cell_type": "code",
   "execution_count": null,
   "metadata": {},
   "outputs": [],
   "source": []
  },
  {
   "cell_type": "markdown",
   "metadata": {},
   "source": [
    "### From the above, lightgbm scale_pos_weight helps to maintain the class imbalance. The metrics look good and to be sure it is not overfitting, I would further explore cross validation with LightGBM at a later time."
   ]
  },
  {
   "cell_type": "code",
   "execution_count": null,
   "metadata": {},
   "outputs": [],
   "source": []
  },
  {
   "cell_type": "markdown",
   "metadata": {},
   "source": [
    "### Further exploration with Logistic regression and a grid search of the ideal class weight to use"
   ]
  },
  {
   "cell_type": "code",
   "execution_count": 374,
   "metadata": {},
   "outputs": [
    {
     "name": "stdout",
     "output_type": "stream",
     "text": [
      "Best parameters : {'class_weight': {0: 0.14090909090909093, 1: 0.8590909090909091}}\n"
     ]
    },
    {
     "data": {
      "text/plain": [
       "<matplotlib.axes._subplots.AxesSubplot at 0x7f8c68880b20>"
      ]
     },
     "execution_count": 374,
     "metadata": {},
     "output_type": "execute_result"
    },
    {
     "data": {
      "image/png": "[encoded data removed]",
      "text/plain": [
       "<Figure size 1008x576 with 1 Axes>"
      ]
     },
     "metadata": {},
     "output_type": "display_data"
    }
   ],
   "source": [
    "weights = np.linspace(0.05, 0.95, 100)\n",
    "\n",
    "gsc = GridSearchCV(\n",
    "    estimator=LogisticRegression(),\n",
    "    param_grid={\n",
    "        'class_weight': [{0: x, 1: 1.0-x} for x in weights]\n",
    "    },\n",
    "    scoring='f1',\n",
    "    cv=3\n",
    ")\n",
    "grid_result = gsc.fit(X_train, y_train)\n",
    "\n",
    "print(\"Best parameters : %s\" % grid_result.best_params_)\n",
    "\n",
    "# Plot the weights vs f1 score\n",
    "dataz = pd.DataFrame({ 'score': grid_result.cv_results_['mean_test_score'],\n",
    "                       'weight': weights })\n",
    "dataz.plot(x='weight')"
   ]
  },
  {
   "cell_type": "code",
   "execution_count": 377,
   "metadata": {},
   "outputs": [
    {
     "data": {
      "text/plain": [
       "{'accuracy': 0.8840579710144928,\n",
       " 'precision': 0.42105263157894735,\n",
       " 'recall': 0.6153846153846154,\n",
       " 'f1': 0.5,\n",
       " 'roc_auc': 0.7636923076923078,\n",
       " 'average_precision': 0.2953411957988617}"
      ]
     },
     "execution_count": 377,
     "metadata": {},
     "output_type": "execute_result"
    }
   ],
   "source": [
    "lr = LogisticRegression(**grid_result.best_params_)\n",
    "\n",
    "# Fit..\n",
    "lr.fit(X_train, y_train)\n",
    "\n",
    "# Predict..\n",
    "y_pred = lr.predict(X_test)\n",
    "\n",
    "get_scores(y_test, y_pred)"
   ]
  },
  {
   "cell_type": "markdown",
   "metadata": {},
   "source": [
    "### Despite adjusting the class weights accordingly, I am not satisfied with the logistic regression metric"
   ]
  },
  {
   "cell_type": "code",
   "execution_count": null,
   "metadata": {},
   "outputs": [],
   "source": []
  },
  {
   "cell_type": "code",
   "execution_count": null,
   "metadata": {},
   "outputs": [],
   "source": []
  },
  {
   "cell_type": "markdown",
   "metadata": {},
   "source": [
    "## Final Algorithm\n",
    "- I will be settling for LightGBM using the scale_pos_weight param with cross validation\n",
    "- I am satisfied with the metrics\n",
    "- Based on this, I generate the feature importances of the algorithm\n",
    "- The first bar chart shows the top 15 most important features and the second bar chart shows the least 15 important features\n",
    "\n",
    "**Observation** : LightGBM is way faster than other tree based algorithm or ensemble algorithms as the case might be."
   ]
  },
  {
   "cell_type": "code",
   "execution_count": 414,
   "metadata": {},
   "outputs": [
    {
     "name": "stdout",
     "output_type": "stream",
     "text": [
      "Mean ROC_AUC score: 0.998 (0.005)\n",
      "CPU times: user 572 ms, sys: 81.5 ms, total: 653 ms\n",
      "Wall time: 3.22 s\n"
     ]
    },
    {
     "data": {
      "text/plain": [
       "0.9963768115942029"
      ]
     },
     "execution_count": 414,
     "metadata": {},
     "output_type": "execute_result"
    }
   ],
   "source": [
    "%%time\n",
    "clf = LGBMClassifier(scale_pos_weight=0.001)\n",
    "\n",
    "cv = RepeatedStratifiedKFold(n_splits=10, n_repeats=3, random_state=1)\n",
    "n_scores = cross_val_score(clf, X_train, y_train, scoring='roc_auc', cv=cv, n_jobs=-1, error_score='raise')\n",
    "print('Mean ROC_AUC score: %.3f (%.3f)' % (mean(n_scores), std(n_scores)))\n",
    "\n",
    "clf = LGBMClassifier(scale_pos_weight=0.001)\n",
    "\n",
    "\n",
    "clf.fit(X_train, y_train)\n",
    "clf.score(X_test, y_test)\n"
   ]
  },
  {
   "cell_type": "code",
   "execution_count": 415,
   "metadata": {},
   "outputs": [
    {
     "name": "stdout",
     "output_type": "stream",
     "text": [
      "ROC_AUC Score is: 0.9995384615384615 and Average Precision score is: 0.9960212201591511\n",
      "{'accuracy': 0.9963768115942029, 'precision': 1.0, 'recall': 0.9615384615384616, 'f1': 0.9803921568627451}\n"
     ]
    }
   ],
   "source": [
    "pred_prob = clf.predict_proba(X_test)\n",
    "\n",
    "auc_score = roc_auc_score(y_test, pred_prob[:,1])\n",
    "AP = average_precision_score(y_test, pred_prob[:,1])        \n",
    "print(f'ROC_AUC Score is: {auc_score} and Average Precision score is: {AP}')\n",
    "\n",
    "test_preds = clf.predict(X_test)\n",
    "\n",
    "print (get_scores(y_test, test_preds))"
   ]
  },
  {
   "cell_type": "code",
   "execution_count": null,
   "metadata": {},
   "outputs": [],
   "source": [
    "from wrangler.utils import get_feature_names"
   ]
  },
  {
   "cell_type": "code",
   "execution_count": 419,
   "metadata": {},
   "outputs": [],
   "source": [
    "feature_names = get_feature_names(full_pipeline)"
   ]
  },
  {
   "cell_type": "code",
   "execution_count": 421,
   "metadata": {},
   "outputs": [
    {
     "data": {
      "image/png": "[encoded data removed]",
      "text/plain": [
       "<Figure size 1440x720 with 1 Axes>"
      ]
     },
     "metadata": {},
     "output_type": "display_data"
    }
   ],
   "source": [
    "import matplotlib.pyplot as plt\n",
    "import seaborn as sns\n",
    "import warnings\n",
    "warnings.simplefilter(action='ignore', category=FutureWarning)\n",
    "\n",
    "feature_imp = pd.DataFrame(sorted(zip(clf.feature_importances_,feature_names)), columns=['Value','Feature'])\n",
    "#Most important features\n",
    "plt.figure(figsize=(20, 10))\n",
    "sns.barplot(x=\"Value\", y=\"Feature\", data=feature_imp.sort_values(by=\"Value\", ascending=False).head(15))\n",
    "plt.title('LightGBM Features')\n",
    "plt.tight_layout()\n",
    "plt.show()"
   ]
  },
  {
   "cell_type": "code",
   "execution_count": 422,
   "metadata": {},
   "outputs": [
    {
     "data": {
      "image/png": "[encoded data removed]",
      "text/plain": [
       "<Figure size 1440x720 with 1 Axes>"
      ]
     },
     "metadata": {},
     "output_type": "display_data"
    }
   ],
   "source": [
    "#Least important features\n",
    "plt.figure(figsize=(20, 10))\n",
    "sns.barplot(x=\"Value\", y=\"Feature\", data=feature_imp.sort_values(by=\"Value\", ascending=True).head(15))\n",
    "plt.title('LightGBM Features')\n",
    "plt.tight_layout()\n",
    "plt.show()"
   ]
  },
  {
   "cell_type": "code",
   "execution_count": null,
   "metadata": {},
   "outputs": [],
   "source": []
  }
 ],
 "metadata": {
  "kernelspec": {
   "display_name": "Python 3 (ipykernel)",
   "language": "python",
   "name": "python3"
  },
  "language_info": {
   "codemirror_mode": {
    "name": "ipython",
    "version": 3
   },
   "file_extension": ".py",
   "mimetype": "text/x-python",
   "name": "python",
   "nbconvert_exporter": "python",
   "pygments_lexer": "ipython3",
   "version": "3.8.3"
  }
 },
 "nbformat": 4,
 "nbformat_minor": 4
}
